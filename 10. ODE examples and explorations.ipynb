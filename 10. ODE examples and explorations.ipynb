{
 "cells": [
  {
   "cell_type": "markdown",
   "metadata": {},
   "source": [
    "# ODE examples and implicit solution with Newton Raphson\n",
    "\n",
    "## Two ODE examples\n",
    "Let's consider two examples in detail. We will solve both with the scipy package, but use a different library for each case. In the Lab you will do a third (similar) example and compare the two libraries in more detail.\n",
    "\n",
    "### Belousov-Zhabotinsky reaction\n",
    "\n",
    "The _Belousov-Zhabotinsky reaction_ is a chemcial oscillator, a cocktail of chemicals which, when heated, undergoes a series of reactions that cause the chemical concentrations in the mixture to oscillate between two extremes. The following equations describe the evolution of the two concentrations in this chemical system:\n",
    "$$\n",
    "\\frac{dx}{dt} = 1-(b+1)x+ax^2y\\\\\n",
    "\\frac{dy}{dt} = bx -ax^2y\n",
    "$$\n",
    "where $x$ and $y$ represent concentrations of two chemicals and $a$ and  $b$ are positive constants. \n",
    "\n",
    "Solve these equations (numerically) for $a=1$, $b=3$ with initial conditions $x=y=0$ and plot the solution. "
   ]
  },
  {
   "cell_type": "code",
   "execution_count": 1,
   "metadata": {},
   "outputs": [
    {
     "name": "stdout",
     "output_type": "stream",
     "text": [
      "Populating the interactive namespace from numpy and matplotlib\n"
     ]
    }
   ],
   "source": [
    "%pylab ipympl\n",
    "#%pylab nbagg\n",
    "import numpy as np\n",
    "from scipy import integrate"
   ]
  },
  {
   "cell_type": "code",
   "execution_count": 2,
   "metadata": {},
   "outputs": [],
   "source": [
    "def bz_rhs_expl(xy,h,a=1,b=3):\n",
    "    '''\n",
    "    RHS of Belousov-Zhabotinsky reaction equations\n",
    "    \n",
    "    Parameters:\n",
    "    -----------\n",
    "    xy    : concentration vector xy = (x,y)\n",
    "    a,b   : constants\n",
    "    h     : time step dt\n",
    "    \n",
    "    Return:\n",
    "    -------\n",
    "    xy_n  : new position vector\n",
    "    '''\n",
    "\n",
    "    x,y = xy\n",
    "    xy_n    = [ 1-(b+1)*x+a*x**2*y, \\\n",
    "               b*x -a*x**2*y ]\n",
    "    return xy_n"
   ]
  },
  {
   "cell_type": "code",
   "execution_count": 3,
   "metadata": {},
   "outputs": [
    {
     "data": {
      "text/plain": [
       "array([ 0.,  3.,  6.,  9., 12., 15., 18., 21., 24., 27., 30., 33., 36.,\n",
       "       39., 42., 45., 48.])"
      ]
     },
     "execution_count": 3,
     "metadata": {},
     "output_type": "execute_result"
    }
   ],
   "source": [
    "arange(0,50,3.)  "
   ]
  },
  {
   "cell_type": "code",
   "execution_count": 4,
   "metadata": {},
   "outputs": [],
   "source": [
    "from scipy.integrate import odeint\n",
    "xy0 = [0,1]      # initial conditions"
   ]
  },
  {
   "cell_type": "markdown",
   "metadata": {},
   "source": [
    "We will need to create the time integration array. We could use `numpy.linspace`. Another convenient option is `numpy.arange`."
   ]
  },
  {
   "cell_type": "code",
   "execution_count": 5,
   "metadata": {},
   "outputs": [],
   "source": [
    "#arange?"
   ]
  },
  {
   "cell_type": "code",
   "execution_count": 6,
   "metadata": {},
   "outputs": [],
   "source": [
    "t = np.arange(0,50,0.01)  "
   ]
  },
  {
   "cell_type": "code",
   "execution_count": 7,
   "metadata": {},
   "outputs": [],
   "source": [
    "a,b = (2,4)      # set parameters   \n",
    "xy = odeint(bz_rhs_expl, xy0, t, args=(a,b))"
   ]
  },
  {
   "cell_type": "code",
   "execution_count": 8,
   "metadata": {},
   "outputs": [
    {
     "data": {
      "application/vnd.jupyter.widget-view+json": {
       "model_id": "",
       "version_major": 2,
       "version_minor": 0
      },
      "text/plain": [
       "FigureCanvasNbAgg()"
      ]
     },
     "metadata": {},
     "output_type": "display_data"
    },
    {
     "data": {
      "text/plain": [
       "<matplotlib.legend.Legend at 0x7f9fc4e80b38>"
      ]
     },
     "execution_count": 8,
     "metadata": {},
     "output_type": "execute_result"
    }
   ],
   "source": [
    "close(114);figure(114)\n",
    "plot(t,xy.T[0],label='x')\n",
    "plot(t,xy.T[1],'--',label='y')\n",
    "xlabel('time'); ylabel('x, y')\n",
    "legend()"
   ]
  },
  {
   "cell_type": "markdown",
   "metadata": {},
   "source": [
    "### The Lorenz equations\n",
    "\n",
    "One of the most celebrated sets of differential equations in physics is the [Lorenz equations](https://en.wikipedia.org/wiki/Lorenz_system):\n",
    "$$ \\frac{dx}{dt} = \\sigma(y-x) $$ $$\\frac{dy}{dt} = rx -y -xz$$ $$\\frac{dz}{dt} = xy - bz$$ where $\\sigma$, $r$ and $b$ are constants. (The names of these constants may seem arbirtrary and odd but are always used in these equations -- _for historical reasons_).\n",
    "\n",
    "We will use the range from $t = 0$ to $t = 50 $ with the intial condition $(x,y,z) = (1,1,1)$, and solve with parameters $\\sigma=10.0$, $r=28$ and $b=8/3$."
   ]
  },
  {
   "cell_type": "markdown",
   "metadata": {},
   "source": [
    "Let's use and explore once more `integrate.solve_ivp`."
   ]
  },
  {
   "cell_type": "code",
   "execution_count": 9,
   "metadata": {},
   "outputs": [],
   "source": [
    "def lorenz_rhs_ode(t,yy,params):\n",
    "    '''\n",
    "    Righ-hand-side (RHS) of Lorenz equations for scipy.integrate.solve_ivp\n",
    "    \n",
    "    Parameters:\n",
    "    -----------\n",
    "    t : float\n",
    "      time \n",
    "    params : tuple, floats\n",
    "      (s,r,b) sigma, r, b parameters\n",
    "    yy : array, float\n",
    "      position vector, three components\n",
    "\n",
    "    Return: \n",
    "    -------\n",
    "    rhs : list, floats \n",
    "      RHS new position vector\n",
    "    '''\n",
    "\n",
    "    s,r,b = params\n",
    "    x,y,z = yy\n",
    "    rhs = array([ s*(y-x), r*x -y -x*z, x*y - b*z])\n",
    "    return rhs"
   ]
  },
  {
   "cell_type": "code",
   "execution_count": 10,
   "metadata": {},
   "outputs": [],
   "source": [
    "# set the parameters for this solution\n",
    "s = 10.0; r = 28; b = 8./3\n",
    "params = (s,r,b)\n",
    "tmin,tmax = (0,50)"
   ]
  },
  {
   "cell_type": "markdown",
   "metadata": {},
   "source": [
    "As it turns out there is one caveat with `integrate.solve_ivp`, which is how it deals with arguments to the RHS. It does not have a built-in way to do this. \n",
    "\n",
    "Another point to note is that this library will automatically pick the time step size, which in this case is too large to make good plots. \n",
    "\n",
    "Let's explore this."
   ]
  },
  {
   "cell_type": "code",
   "execution_count": 11,
   "metadata": {},
   "outputs": [],
   "source": [
    "t_eval = linspace(tmin,tmax,10000)\n",
    "fun = lambda t,y : lorenz_rhs_ode(t,y,params)\n",
    "a0  = array([1,1,1])\n",
    "sol    = integrate.solve_ivp(fun,[tmin,tmax],a0, t_eval = t_eval)"
   ]
  },
  {
   "cell_type": "code",
   "execution_count": 12,
   "metadata": {},
   "outputs": [],
   "source": [
    "#sol?"
   ]
  },
  {
   "cell_type": "markdown",
   "metadata": {},
   "source": [
    "#### Time evolution of the first component"
   ]
  },
  {
   "cell_type": "code",
   "execution_count": 13,
   "metadata": {},
   "outputs": [
    {
     "data": {
      "application/vnd.jupyter.widget-view+json": {
       "model_id": "",
       "version_major": 2,
       "version_minor": 0
      },
      "text/plain": [
       "FigureCanvasNbAgg()"
      ]
     },
     "metadata": {},
     "output_type": "display_data"
    },
    {
     "data": {
      "text/plain": [
       "Text(0, 0.5, 'x coordinate')"
      ]
     },
     "execution_count": 13,
     "metadata": {},
     "output_type": "execute_result"
    }
   ],
   "source": [
    "close(1);figure(1)\n",
    "plot(sol.t,sol.y[0])\n",
    "xlabel('time'); ylabel(\"x coordinate\")"
   ]
  },
  {
   "cell_type": "markdown",
   "metadata": {},
   "source": [
    "#### Plot of x vs y component"
   ]
  },
  {
   "cell_type": "code",
   "execution_count": 14,
   "metadata": {},
   "outputs": [
    {
     "data": {
      "application/vnd.jupyter.widget-view+json": {
       "model_id": "",
       "version_major": 2,
       "version_minor": 0
      },
      "text/plain": [
       "FigureCanvasNbAgg()"
      ]
     },
     "metadata": {},
     "output_type": "display_data"
    },
    {
     "data": {
      "text/plain": [
       "Text(0, 0.5, 'x coordinate')"
      ]
     },
     "execution_count": 14,
     "metadata": {},
     "output_type": "execute_result"
    }
   ],
   "source": [
    "close(2);figure(2)\n",
    "plot(sol.y[0],sol.y[1])\n",
    "xlabel('time'); ylabel(\"x coordinate\")"
   ]
  },
  {
   "cell_type": "markdown",
   "metadata": {},
   "source": [
    "#### Last but not least, let's do a 3D plot of the 3D trajectory."
   ]
  },
  {
   "cell_type": "code",
   "execution_count": 15,
   "metadata": {},
   "outputs": [],
   "source": [
    "import matplotlib.pyplot as plt\n",
    "from scipy.integrate import odeint\n",
    "from mpl_toolkits.mplot3d import Axes3D"
   ]
  },
  {
   "cell_type": "code",
   "execution_count": 16,
   "metadata": {},
   "outputs": [],
   "source": [
    "#help(Axes3D)"
   ]
  },
  {
   "cell_type": "code",
   "execution_count": 17,
   "metadata": {},
   "outputs": [
    {
     "data": {
      "application/vnd.jupyter.widget-view+json": {
       "model_id": "",
       "version_major": 2,
       "version_minor": 0
      },
      "text/plain": [
       "FigureCanvasNbAgg()"
      ]
     },
     "metadata": {},
     "output_type": "display_data"
    }
   ],
   "source": [
    "ifig=19;close(ifig);fig = plt.figure(ifig)\n",
    "ax = fig.gca(projection='3d',azim=-30, elev=45)\n",
    "ax.plot(sol.y[0],sol.y[1],sol.y[2])\n",
    "ax.set_xlabel('X')\n",
    "ax.set_ylabel('Y')\n",
    "ax.set_zlabel('Z')\n",
    "title('s = %4.1f ; r = %4.1f; b = %4.1f)'%(s,r,b))\n",
    "show()"
   ]
  },
  {
   "cell_type": "markdown",
   "metadata": {},
   "source": []
  }
 ],
 "metadata": {
  "kernelspec": {
   "display_name": "Python 3",
   "language": "python",
   "name": "python3"
  },
  "language_info": {
   "codemirror_mode": {
    "name": "ipython",
    "version": 3
   },
   "file_extension": ".py",
   "mimetype": "text/x-python",
   "name": "python",
   "nbconvert_exporter": "python",
   "pygments_lexer": "ipython3",
   "version": "3.7.3"
  }
 },
 "nbformat": 4,
 "nbformat_minor": 2
}
