{
 "cells": [
  {
   "cell_type": "markdown",
   "metadata": {},
   "source": [
    "## 13b - Crime stats with a library\n",
    "\n"
   ]
  },
  {
   "cell_type": "code",
   "execution_count": 5,
   "metadata": {},
   "outputs": [
    {
     "name": "stdout",
     "output_type": "stream",
     "text": [
      "/home/user/mp248-course-notes\n"
     ]
    }
   ],
   "source": [
    "## datlib is a library with its own namespace\n",
    "from Quizzes_Assignments_Exams import datlib\n",
    "## access objects \n",
    "## datlib.clean_dat\n",
    "\n",
    "## when you run datlib it is executing in os.getcwd()\n",
    "import os\n",
    "print(os.getcwd())"
   ]
  },
  {
   "cell_type": "code",
   "execution_count": 3,
   "metadata": {},
   "outputs": [],
   "source": [
    "from Quizzes_Assignments_Exams.datlib import clean_dat"
   ]
  },
  {
   "cell_type": "code",
   "execution_count": 4,
   "metadata": {},
   "outputs": [
    {
     "data": {
      "text/plain": [
       "{'latitude': 48.4255680718449,\n",
       " 'longitude': -123.348998693722,\n",
       " 'parent_incident_type': 'Disorder',\n",
       " 'incident_type_primary': 'CAUSE A DISTURBANCE',\n",
       " 'address_1': '1200 Block JOHNSON ST',\n",
       " 'address_2': None,\n",
       " 'case_number': [16, 22918],\n",
       " 'incident_id': 760527874,\n",
       " 'created_at': datetime.datetime(2016, 5, 26, 9, 46, 43),\n",
       " 'updated_at': datetime.datetime(2016, 6, 23, 19, 40, 33),\n",
       " 'incident_datetime': datetime.datetime(2016, 5, 25, 1, 29)}"
      ]
     },
     "execution_count": 4,
     "metadata": {},
     "output_type": "execute_result"
    }
   ],
   "source": [
    "clean_dat[0]"
   ]
  },
  {
   "cell_type": "markdown",
   "metadata": {},
   "source": [
    "Let's do some basic analysis of the data.\n",
    "\n",
    "1) Which crime reports are the most common? **check**\n",
    "\n",
    "2) When do the crimes happen?\n",
    "\n",
    "3) Where do they occur? Last week's lab wrt Bay Centre partially addresses this. \n",
    "\n",
    "4) What relations are there between the crime types?  Crime and weather data (today's lab concerns this question)\n"
   ]
  },
  {
   "cell_type": "code",
   "execution_count": 11,
   "metadata": {},
   "outputs": [
    {
     "name": "stdout",
     "output_type": "stream",
     "text": [
      "127668\n"
     ]
    },
    {
     "data": {
      "image/png": "[encoded data removed]",
      "text/plain": [
       "<Figure size 576x576 with 1 Axes>"
      ]
     },
     "metadata": {
      "needs_background": "light"
     },
     "output_type": "display_data"
    }
   ],
   "source": [
    "## (2) When do the crimes occur\n",
    "##  We could address this with a histogram where we \"bin\" the\n",
    "##  crime types by the hour of the day they occur. 24 bins. \n",
    "#    floatkeys = ['latitude', 'longitude']\n",
    "#    strkeys = ['parent_incident_type', 'incident_type_primary', 'address_1', 'address_2']\n",
    "#    intkeys = ['case_number', 'incident_id']\n",
    "#    datekeys = ['created_at', 'updated_at', 'incident_datetime']\n",
    "import matplotlib.pyplot as plt\n",
    "%matplotlib inline\n",
    "\n",
    "## first let's just deal with all the crimes\n",
    "HOD = [x['incident_datetime'].hour for x in clean_dat]\n",
    "print(len(HOD))\n",
    "plt.figure(figsize=(8,8))\n",
    "A = plt.hist(HOD, rwidth=0.9, bins=[i for i in range(24)])"
   ]
  },
  {
   "cell_type": "code",
   "execution_count": 18,
   "metadata": {},
   "outputs": [
    {
     "data": {
      "image/png": "[encoded data removed]",
      "text/plain": [
       "<Figure size 576x576 with 1 Axes>"
      ]
     },
     "metadata": {
      "needs_background": "light"
     },
     "output_type": "display_data"
    }
   ],
   "source": [
    "## adjust above code for individual crime types\n",
    "\n",
    "## plot a histogram of all crimes of type incident_type_primary == itp\n",
    "def crime_hist(itp):\n",
    "    HOD = [x['incident_datetime'].hour for x in clean_dat\\\n",
    "           if x['incident_type_primary']==itp]\n",
    "    plt.figure(figsize=(8,8))\n",
    "    plt.title('Temporal Histogram: '+itp)\n",
    "    A = plt.hist(HOD, rwidth=0.9, bins=[i for i in range(24)])\n",
    "    \n",
    "crime_hist('THEFT BICYCLE OVER $5000')"
   ]
  },
  {
   "cell_type": "code",
   "execution_count": 14,
   "metadata": {},
   "outputs": [
    {
     "name": "stdout",
     "output_type": "stream",
     "text": [
      "{'Alarm': defaultdict(<class 'int'>, {'FALSE ALARMS': 1447}),\n",
      " 'Arson': defaultdict(<class 'int'>,\n",
      "                      {'ARSON-DISREGARD FOR HUMAN LIFE': 22,\n",
      "                       'ARSON-PROPERTY': 260}),\n",
      " 'Assault': defaultdict(<class 'int'>,\n",
      "                        {'ASSAULT AGAINST POLICE OFFICER': 417,\n",
      "                         'ASSAULT-COMMON OR TRESPASS': 2065,\n",
      "                         'ASSAULTS-OTHER': 473}),\n",
      " 'Assault with Deadly Weapon': defaultdict(<class 'int'>,\n",
      "                                           {'ASSAULT OT P/O-W/WPN OR CBH': 38,\n",
      "                                            'ASSAULT POLICE-W/WEAPON OR CBH': 75,\n",
      "                                            'ASSAULT-AGGRAVATED': 98,\n",
      "                                            'ASSAULT-OTHER PEACE OFFICER': 125,\n",
      "                                            'ASSAULT-W/WEAPON OR CBH': 1552}),\n",
      " 'Breaking & Entering': defaultdict(<class 'int'>,\n",
      "                                    {'BREAK & ENTER-BUSINESS': 1691,\n",
      "                                     'BREAK & ENTER-OTHER': 1452,\n",
      "                                     'BREAK & ENTER-RESIDENCE': 2202}),\n",
      " 'Community Policing': defaultdict(<class 'int'>,\n",
      "                                   {'BUSINESS': 46,\n",
      "                                    'CITIZEN ASSIST': 1}),\n",
      " 'Disorder': defaultdict(<class 'int'>, {'CAUSE A DISTURBANCE': 3786}),\n",
      " 'Drugs': defaultdict(<class 'int'>,\n",
      "                      {'POSSESS-OTH SCHED I DRUGS/SUBS': 291,\n",
      "                       'POSSESS-OTH SCHED III DRUG/SUB': 30,\n",
      "                       'POSSESSION-CANNABIS 30G & UNDR': 919,\n",
      "                       'POSSESSION-CANNABIS OVER 30G': 38,\n",
      "                       'POSSESSION-COCAINE': 769,\n",
      "                       'POSSESSION-HEROIN': 273,\n",
      "                       'POSSESSION-MDMA (ECSTASY)': 14,\n",
      "                       'POSSESSION-METHAMPHETAMINE': 367,\n",
      "                       'TRAFFICK-CANNABIS 3000G & UNDR': 126,\n",
      "                       'TRAFFICK-CANNABIS OVER 3000G': 7,\n",
      "                       'TRAFFICKING-AMPHETAMINE': 9,\n",
      "                       'TRAFFICKING-COCAINE': 483,\n",
      "                       'TRAFFICKING-HEROIN': 118,\n",
      "                       'TRAFFICKING-METHAMPHETAMINE': 68,\n",
      "                       'TRAFFICKING-MORPHINE': 5,\n",
      "                       'TRAFFICKING-OTH SCHED IV CDSA': 3,\n",
      "                       'TRAFFICKING-OTHER CDSA': 35}),\n",
      " 'Liquor': defaultdict(<class 'int'>,\n",
      "                       {'LIQUOR (LCLA) ACT-OTHER': 442,\n",
      "                        'LIQUOR-CONSUME IN PUBLIC PLACE': 734,\n",
      "                        'LIQUOR-INTOX IN PUBLIC PLACE': 9292,\n",
      "                        'LIQUOR-SEIZURE': 21}),\n",
      " 'Other': defaultdict(<class 'int'>,\n",
      "                      {'ANIMAL CALLS': 869,\n",
      "                       'BYLAW-NOISE': 6089,\n",
      "                       'OBSTRUCT PEACE/PUBLIC OFFICER': 451,\n",
      "                       'SUSPICIOUS PERS/VEH/OCCURRENCE': 17445}),\n",
      " 'Property Crime': defaultdict(<class 'int'>,\n",
      "                               {'FRAUD-CHEQUE': 61,\n",
      "                                'FRAUD-CREDIT/DEBIT CARD': 72,\n",
      "                                'MISCHIEF $5000 OR UNDER': 8894,\n",
      "                                'MISCHIEF OVER $5000': 90,\n",
      "                                'POSSESS STLN PROPERTY O/$5000': 1,\n",
      "                                'POSSESS STLN PROPERTY U/$5000': 12}),\n",
      " 'Robbery': defaultdict(<class 'int'>,\n",
      "                        {'ROBBERY W/OTHER OFFENSIVE WPN': 246,\n",
      "                         'ROBBERY-OTHER': 536}),\n",
      " 'Theft': defaultdict(<class 'int'>,\n",
      "                      {'THEFT BICYCLE OVER $5000': 53,\n",
      "                       'THEFT BICYCLE UNDER $5000': 5083,\n",
      "                       'THEFT-ELEC/GAS/TEL UNDER $5000': 19,\n",
      "                       'THEFT-OTHER OVER $5000': 205,\n",
      "                       'THEFT-OTHER UNDER $5000': 9430,\n",
      "                       'THEFT-SHOPLIFTING OVER $5000': 18,\n",
      "                       'THEFT-SHOPLIFTING UNDER $5000': 7392}),\n",
      " 'Theft from Vehicle': defaultdict(<class 'int'>,\n",
      "                                   {'THEFT FROM MV OVER $5000': 165,\n",
      "                                    'THEFT FROM MV UNDER $5000': 10906}),\n",
      " 'Theft of Vehicle': defaultdict(<class 'int'>,\n",
      "                                 {'TAKE AUTO W/O CONSENT U/$5000': 42,\n",
      "                                  'THEFT MOTORCYCLE UNDER $5000': 304,\n",
      "                                  'THEFT OF AUTO OVER $5000': 270,\n",
      "                                  'THEFT OF AUTO UNDER $5000': 508,\n",
      "                                  'THEFT OF TRUCK OVER $5000': 110,\n",
      "                                  'THEFT OF TRUCK UNDER $5000': 178,\n",
      "                                  'THEFT OTHER VEHICLE U/$5000': 26}),\n",
      " 'Traffic': defaultdict(<class 'int'>,\n",
      "                        {'215 ALCOH-24HR': 429,\n",
      "                         '215 DRUG': 461,\n",
      "                         '215ALCOH IRP WARN-30DAY': 24,\n",
      "                         '215ALCOH IRP WARN-3DAY': 532,\n",
      "                         '215ALCOH IRP WARN-7DAY': 33,\n",
      "                         'COLLISION-DAMAGE OVER $1000': 3218,\n",
      "                         'COLLISION-DAMAGE UNDER $1000': 2292,\n",
      "                         'COLLISION-NON-FATAL INJURY': 1650,\n",
      "                         'DRIVING COMPLAINTS': 3701,\n",
      "                         'EXCESSIVE SPEED-OVER 40KM': 19,\n",
      "                         'IMPAIRED OP MOTOR VEH (ALCOH)': 2024,\n",
      "                         'TRAFFIC-INSURANCE VIOLATION': 3424,\n",
      "                         'TRAFFIC-OTHER FEDERAL': 41,\n",
      "                         'TRAFFIC-OTHER MOVING PROV': 3527,\n",
      "                         'TRAFFIC-OTHER MUNICIPAL': 438,\n",
      "                         'TRAFFIC-OTHER NON-MOVE PROV': 1343,\n",
      "                         'TRAFFIC-WRITTEN WARNING': 52}),\n",
      " 'Vehicle Stop': defaultdict(<class 'int'>,\n",
      "                             {'CYCLIST': 1345,\n",
      "                              'VEHICLE': 4186,\n",
      "                              'VI-VEHICLE IMPOUNDMENT': 81}),\n",
      " 'Weapons Offense': defaultdict(<class 'int'>,\n",
      "                                {'FIREARM-POINTING': 12,\n",
      "                                 'WEAPONS POSS-CONTRARY TO ORDER': 28,\n",
      "                                 'WEAPONS-POSSESSION': 966})}\n"
     ]
    }
   ],
   "source": [
    "import pprint as pp\n",
    "pp.pprint(datlib.ctree)"
   ]
  },
  {
   "cell_type": "code",
   "execution_count": 35,
   "metadata": {},
   "outputs": [],
   "source": [
    "import cmath as cm\n",
    "\n",
    "## We observed for most crime types there is a typical time for them\n",
    "## let's write code to find the average time of day of occurance.\n",
    "\n",
    "## to do this we will represent the time as on the unit circle i.e. 24 hours\n",
    "## will correspond to 2*Pi. \n",
    "\n",
    "## we will take the average of these coordinates in R^2, taking the unit vector\n",
    "## as the \"average\" and the length of this vector as some measure of the \n",
    "## \"variance\"\n",
    "\n",
    "#datetime.replace(year=self.year, month=self.month, day=self.day, \n",
    "# hour=self.hour, minute=self.minute, second=self.second, microsecond=self.microsecond, tzinfo=self.tzinfo, * fold=0)¶\n",
    "\n",
    "def crime_daily_time_avg(itp):\n",
    "    TSM = []\n",
    "    for x in clean_dat:\n",
    "        if x['incident_type_primary']==itp:\n",
    "            midnight = x['incident_datetime'].replace(hour=0, minute=0,\\\n",
    "                                                          second=0, microsecond=0)\n",
    "            tsm = x['incident_datetime'] - midnight\n",
    "            TSM.append(tsm)\n",
    "    TOUS = []\n",
    "    for x in TSM:\n",
    "        tous = cm.rect( 1.0, x.seconds*2*cm.pi / (60*60*24) )\n",
    "        TOUS.append(tous)\n",
    "    avg = sum(TOUS) / len(TOUS)\n",
    "    ## polar returns pair (r, angle)\n",
    "    plr = cm.polar(avg)\n",
    "    ## angle is between -pi and pi.\n",
    "    ti = plr[1]*24/(2*cm.pi)\n",
    "    ti = ti % 24\n",
    "    return(plr[0], ti)"
   ]
  },
  {
   "cell_type": "code",
   "execution_count": 40,
   "metadata": {},
   "outputs": [],
   "source": [
    "import operator as op\n",
    "\n",
    "avgti = []\n",
    "for k,v in datlib.ctree.items():\n",
    "    for w in v.keys():\n",
    "        #print(w)\n",
    "        if w=='CITIZEN ASSIST':\n",
    "            continue\n",
    "        avgti.append( (w, *crime_daily_time_avg(w) ) )"
   ]
  },
  {
   "cell_type": "code",
   "execution_count": 42,
   "metadata": {},
   "outputs": [],
   "source": [
    "avgti = sorted( avgti, key=op.itemgetter(1) )"
   ]
  },
  {
   "cell_type": "code",
   "execution_count": 43,
   "metadata": {},
   "outputs": [
    {
     "name": "stdout",
     "output_type": "stream",
     "text": [
      "[('WEAPONS POSS-CONTRARY TO ORDER', 0.08518855398875698, 15.72103944527582),\n",
      " ('ASSAULT-OTHER PEACE OFFICER', 0.15532614825358687, 19.12471785837786),\n",
      " ('POSSESS-OTH SCHED III DRUG/SUB', 0.17118001703198482, 23.025878579853657),\n",
      " ('POSSESS-OTH SCHED I DRUGS/SUBS', 0.17560197188544013, 17.2280948883448),\n",
      " ('POSSESSION-METHAMPHETAMINE', 0.1789142799893162, 17.443727840592615),\n",
      " ('SUSPICIOUS PERS/VEH/OCCURRENCE', 0.1794573170544679, 17.483635847218032),\n",
      " ('ASSAULT-AGGRAVATED', 0.194380289933686, 23.45682113540749),\n",
      " ('OBSTRUCT PEACE/PUBLIC OFFICER', 0.19442268051213288, 0.048190355746602014),\n",
      " ('ASSAULT-W/WEAPON OR CBH', 0.1947211776137087, 21.523070981857803),\n",
      " ('EXCESSIVE SPEED-OVER 40KM', 0.20049887970308272, 20.60343374596373),\n",
      " ('POSSESSION-COCAINE', 0.20060276704374363, 18.453412998003405),\n",
      " ('ASSAULT POLICE-W/WEAPON OR CBH', 0.2087383149719908, 22.208363351222083),\n",
      " ('WEAPONS-POSSESSION', 0.20924113623389798, 16.909183645998233),\n",
      " ('MISCHIEF $5000 OR UNDER', 0.21980485231895205, 12.756322224854323),\n",
      " ('ASSAULT AGAINST POLICE OFFICER', 0.23175542148404546, 20.879617884328226),\n",
      " ('POSSESSION-HEROIN', 0.24044216310497182, 16.49293618346033),\n",
      " ('CAUSE A DISTURBANCE', 0.2444117707114716, 22.374065253415516),\n",
      " ('ASSAULTS-OTHER', 0.24661916621161276, 20.279253394106423),\n",
      " ('ASSAULT-COMMON OR TRESPASS', 0.24792566888439224, 21.083910508164887),\n",
      " ('TRAFFIC-OTHER FEDERAL', 0.25244974333263887, 18.296165120371022),\n",
      " ('ROBBERY-OTHER', 0.2594835384135925, 20.37858901424775),\n",
      " ('ASSAULT OT P/O-W/WPN OR CBH', 0.2665365079817829, 23.276997745990858),\n",
      " ('ARSON-PROPERTY', 0.26777176179133305, 2.021203791631539),\n",
      " ('VEHICLE', 0.26804995075881466, 0.817067048037683),\n",
      " ('TRAFFICKING-OTH SCHED IV CDSA', 0.2766826092701003, 11.208134973287011),\n",
      " ('POSSESSION-CANNABIS OVER 30G', 0.27839081975625546, 17.49144414256819),\n",
      " ('TRAFFIC-OTHER NON-MOVE PROV', 0.28134685261925824, 13.754157389055226),\n",
      " ('BREAK & ENTER-RESIDENCE', 0.2879880911833028, 14.635273750338508),\n",
      " ('ROBBERY W/OTHER OFFENSIVE WPN', 0.28822567348946776, 20.452696947572367),\n",
      " ('TRAFFIC-INSURANCE VIOLATION', 0.2932945668722541, 14.530499641076819),\n",
      " ('TAKE AUTO W/O CONSENT U/$5000', 0.30289155022367514, 14.218928683737712),\n",
      " ('POSSESSION-CANNABIS 30G & UNDR', 0.308173821618369, 17.14136740822773),\n",
      " ('TRAFFIC-OTHER MOVING PROV', 0.30851708651869214, 15.990279278480054),\n",
      " ('THEFT OF AUTO OVER $5000', 0.31351971225747294, 14.393200371459839),\n",
      " ('TRAFFICKING-HEROIN', 0.32070097941852244, 15.997095630006422),\n",
      " ('ANIMAL CALLS', 0.3238082192355012, 16.0853334894938),\n",
      " ('THEFT-ELEC/GAS/TEL UNDER $5000', 0.3288330204434237, 14.186615940457838),\n",
      " ('TRAFFICK-CANNABIS OVER 3000G', 0.33184355675397126, 17.144376905234317),\n",
      " ('THEFT BICYCLE OVER $5000', 0.34450610716864294, 14.834949444091356),\n",
      " ('CYCLIST', 0.3483324455487253, 2.1183044585021364),\n",
      " ('THEFT OF AUTO UNDER $5000', 0.35267471363045294, 13.305043759803738),\n",
      " ('215 DRUG', 0.35280853141228974, 22.82827396570897),\n",
      " ('ARSON-DISREGARD FOR HUMAN LIFE', 0.36162666653942965, 2.90162011052689),\n",
      " ('MISCHIEF OVER $5000', 0.3670117294607169, 11.266991387213956),\n",
      " ('VI-VEHICLE IMPOUNDMENT', 0.3689158912838151, 23.156809949332317),\n",
      " ('BREAK & ENTER-BUSINESS', 0.3817876574970984, 7.132554989545371),\n",
      " ('FALSE ALARMS', 0.3830953694987534, 1.3582270491750197),\n",
      " ('TRAFFICKING-COCAINE', 0.38600033630284974, 14.563971776603307),\n",
      " ('TRAFFICKING-AMPHETAMINE', 0.39240319089039244, 14.043215028824097),\n",
      " ('FIREARM-POINTING', 0.397532029368721, 21.828679223371523),\n",
      " ('TRAFFICKING-METHAMPHETAMINE', 0.40165217786488805, 15.755638040002843),\n",
      " ('THEFT FROM MV UNDER $5000', 0.40405344543876137, 12.302067242084368),\n",
      " ('BREAK & ENTER-OTHER', 0.4057361054485011, 11.69258720156206),\n",
      " ('LIQUOR-INTOX IN PUBLIC PLACE', 0.40696304977890413, 21.76581524576496),\n",
      " ('TRAFFIC-OTHER MUNICIPAL', 0.41006124530442684, 15.020697329838036),\n",
      " ('TRAFFIC-WRITTEN WARNING', 0.416680481042451, 14.561097481267511),\n",
      " ('LIQUOR-CONSUME IN PUBLIC PLACE', 0.42539850678521374, 17.15571983272248),\n",
      " ('THEFT MOTORCYCLE UNDER $5000', 0.43539852594321965, 12.321098916396764),\n",
      " ('LIQUOR-SEIZURE', 0.4373066067594536, 20.83339920284905),\n",
      " ('THEFT OF TRUCK UNDER $5000', 0.43801738244323773, 11.356312888812628),\n",
      " ('THEFT BICYCLE UNDER $5000', 0.442731275990057, 14.492183424787335),\n",
      " ('THEFT-OTHER UNDER $5000', 0.44378350093876767, 14.430292205852322),\n",
      " ('COLLISION-DAMAGE OVER $1000', 0.44637518432040746, 14.388094649319253),\n",
      " ('TRAFFICKING-OTHER CDSA', 0.44891282120169046, 13.548556674333469),\n",
      " ('DRIVING COMPLAINTS', 0.4496725702636226, 15.339305197407636),\n",
      " ('COLLISION-NON-FATAL INJURY', 0.4497870015080369, 14.263184458858031),\n",
      " ('THEFT FROM MV OVER $5000', 0.4646330013281764, 11.530578351073052),\n",
      " ('THEFT OF TRUCK OVER $5000', 0.46501405410955826, 11.780197312826155),\n",
      " ('FRAUD-CREDIT/DEBIT CARD', 0.48262324842240084, 13.373657422600871),\n",
      " ('COLLISION-DAMAGE UNDER $1000', 0.4845017981857546, 14.95666780921705),\n",
      " ('BUSINESS', 0.5001661774639717, 2.9453633728020177),\n",
      " ('LIQUOR (LCLA) ACT-OTHER', 0.5196839377387922, 22.760247237923434),\n",
      " ('THEFT OTHER VEHICLE U/$5000', 0.5201585147038927, 10.603670601167892),\n",
      " ('IMPAIRED OP MOTOR VEH (ALCOH)', 0.5257051088233244, 0.25617822364388587),\n",
      " ('TRAFFICK-CANNABIS 3000G & UNDR', 0.5595495667653175, 15.529686793695229),\n",
      " ('THEFT-OTHER OVER $5000', 0.581789491237443, 13.379311261256843),\n",
      " ('FRAUD-CHEQUE', 0.5870512697564814, 13.399387757105366),\n",
      " ('POSSESS STLN PROPERTY U/$5000', 0.5926167417471835, 22.570131413990424),\n",
      " ('THEFT-SHOPLIFTING UNDER $5000', 0.6083008090710034, 15.899396595298784),\n",
      " ('215 ALCOH-24HR', 0.6117717591294136, 0.5478487040210621),\n",
      " ('POSSESSION-MDMA (ECSTASY)', 0.6549284726917076, 22.39300067750647),\n",
      " ('BYLAW-NOISE', 0.6559421491948335, 23.867901759535478),\n",
      " ('TRAFFICKING-MORPHINE', 0.6795270256366278, 9.415101501792924),\n",
      " ('215ALCOH IRP WARN-7DAY', 0.6960104130402139, 1.055454178254402),\n",
      " ('215ALCOH IRP WARN-30DAY', 0.7041331276165917, 0.8699327722724837),\n",
      " ('THEFT-SHOPLIFTING OVER $5000', 0.7516471782450431, 15.359171601557616),\n",
      " ('215ALCOH IRP WARN-3DAY', 0.7621266275351422, 0.6307285264818706),\n",
      " ('POSSESS STLN PROPERTY O/$5000', 1.0, 0.0)]\n"
     ]
    }
   ],
   "source": [
    "pp.pprint(avgti)"
   ]
  },
  {
   "cell_type": "code",
   "execution_count": null,
   "metadata": {},
   "outputs": [],
   "source": []
  }
 ],
 "metadata": {
  "kernelspec": {
   "display_name": "Python 3",
   "language": "python",
   "name": "python3"
  },
  "language_info": {
   "codemirror_mode": {
    "name": "ipython",
    "version": 3
   },
   "file_extension": ".py",
   "mimetype": "text/x-python",
   "name": "python",
   "nbconvert_exporter": "python",
   "pygments_lexer": "ipython3",
   "version": "3.6.7"
  }
 },
 "nbformat": 4,
 "nbformat_minor": 2
}
