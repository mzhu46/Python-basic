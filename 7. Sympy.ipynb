{
 "cells": [
  {
   "cell_type": "markdown",
   "metadata": {},
   "source": [
    "## 7. Sympy\n",
    "\n",
    "This notebook will explore the **symbolic mathematics** library for Python, called [Sympy](https://www.sympy.org/en/index.html).\n",
    "\n",
    "**What is symbolic mathematics**\n",
    "\n",
    " * Mathematical objects represented on computers faithfully.\n",
    " * Routines to manipulate those mathematical objects faithfully. \n",
    " \n",
    "**What symbolic mathematics do we know in Python, so far?**\n",
    "\n",
    " * Integers\n",
    " \n",
    "**What are examples of mathematics in Python that is not proper symbolic mathematics?**\n",
    "\n",
    " * Floating point numbers"
   ]
  },
  {
   "cell_type": "code",
   "execution_count": 145,
   "metadata": {},
   "outputs": [],
   "source": [
    "## Before we go too far let's demonstrate why integers are symbolic\n",
    "## and floating point numbers are not\n",
    "\n",
    "def f(x):\n",
    "    r = 2*x\n",
    "    while r>= 1:\n",
    "        r -= 1\n",
    "    while r<0:\n",
    "        r += 1\n",
    "    return(r)\n",
    "\n"
   ]
  },
  {
   "cell_type": "code",
   "execution_count": 146,
   "metadata": {},
   "outputs": [
    {
     "name": "stdout",
     "output_type": "stream",
     "text": [
      "0.5\n"
     ]
    }
   ],
   "source": [
    "x = 1/3\n",
    "for i in range(53):\n",
    "    x = f(x)\n",
    "print(x)"
   ]
  },
  {
   "cell_type": "code",
   "execution_count": 147,
   "metadata": {},
   "outputs": [
    {
     "name": "stdout",
     "output_type": "stream",
     "text": [
      "3.141592653589793\n",
      "0.5\n"
     ]
    }
   ],
   "source": [
    "## if you use floats, you could get this erroneous result\n",
    "## and maybe conclude that (1/3) times an integer power of 2 is an\n",
    "## integer. \n",
    "\n",
    "import math as ma\n",
    "print(ma.pi)\n",
    "x = ma.pi\n",
    "for i in range(47):\n",
    "    x = f(x)\n",
    "print(x)"
   ]
  },
  {
   "cell_type": "markdown",
   "metadata": {},
   "source": [
    "**Fact** The only numbers where $f^{(k)}(x) = 0$ are the numbers of\n",
    " the form $$x = \\frac{p}{2^q}$$\n",
    " with $p$ and $q$ integers."
   ]
  },
  {
   "cell_type": "code",
   "execution_count": 148,
   "metadata": {},
   "outputs": [
    {
     "name": "stdout",
     "output_type": "stream",
     "text": [
      "1606938044258990275541962092341162602522202993782792835301376\n"
     ]
    }
   ],
   "source": [
    "## on the other hand, integers are faithful (symbolic)\n",
    "x = 1\n",
    "for i in range(200):\n",
    "    x *= 2\n",
    "print(x)"
   ]
  },
  {
   "cell_type": "code",
   "execution_count": 149,
   "metadata": {},
   "outputs": [
    {
     "name": "stdout",
     "output_type": "stream",
     "text": [
      "1/5\n"
     ]
    }
   ],
   "source": [
    "## fractions library\n",
    "import fractions as fr\n",
    "x = fr.Fraction(1,5) ## i.e. 1/3\n",
    "print(x)"
   ]
  },
  {
   "cell_type": "code",
   "execution_count": 150,
   "metadata": {},
   "outputs": [
    {
     "name": "stdout",
     "output_type": "stream",
     "text": [
      "1/5\n",
      "2/5\n",
      "4/5\n",
      "3/5\n",
      "1/5\n"
     ]
    }
   ],
   "source": [
    "for i in range(5):\n",
    "    print(x)\n",
    "    x = f(x)"
   ]
  },
  {
   "cell_type": "code",
   "execution_count": 151,
   "metadata": {},
   "outputs": [
    {
     "name": "stdout",
     "output_type": "stream",
     "text": [
      "1/3\n",
      "2/3\n",
      "1/3\n",
      "2/3\n",
      "1/3\n"
     ]
    }
   ],
   "source": [
    "## Sympy can do this as well\n",
    "import sympy as sp\n",
    "x = sp.Integer(1)/sp.Integer(3)\n",
    "for i in range(5):\n",
    "    print(x)\n",
    "    x = f(x)"
   ]
  },
  {
   "cell_type": "markdown",
   "metadata": {},
   "source": [
    "\n",
    "## What might we want Symbolic mathematics for?\n",
    "\n",
    "* Complex numbers\n",
    "\n",
    "* Matrices\n",
    "\n",
    "* Describing functional relations\n",
    "\n",
    "$$f(x) = \\frac{e^x}{x^2+2x+1}$$\n",
    "\n",
    "* Doing calculus $f'(x)$, more generally, manipulating functional relations.\n",
    "\n",
    "* Finding solutions of equations in closed form $f(x)=0$.\n",
    "\n",
    "* Finding solutions to differential equations in closed form $f''+3xf'+3 = 0$.\n",
    "\n",
    "* Doing tedious algebraic gruntwork. . . for example, setting up complex differential equations.\n",
    "\n",
    "* There are many problems that need more sophisticated data types to solve, eg: knotting, symmetry, etc. . .\n",
    "\n"
   ]
  },
  {
   "cell_type": "code",
   "execution_count": 152,
   "metadata": {},
   "outputs": [
    {
     "name": "stdout",
     "output_type": "stream",
     "text": [
      "(0.2-0.4j)\n"
     ]
    }
   ],
   "source": [
    "## some of the most basic data types, like complex numbers\n",
    "## you don't need sympy for, there's seperate libraries\n",
    "\n",
    "import cmath as cm\n",
    "\n",
    "z = 1+2j\n",
    "print(z**(-1))"
   ]
  },
  {
   "cell_type": "code",
   "execution_count": 153,
   "metadata": {},
   "outputs": [
    {
     "name": "stdout",
     "output_type": "stream",
     "text": [
      "θ\n",
      "mynumber\n"
     ]
    }
   ],
   "source": [
    "x = sp.Symbol('theta') ## Python will think of the variable as x\n",
    " ## it will print it as the string 'x'\n",
    "sp.pprint(x)\n",
    "y = sp.Symbol('mynumber')\n",
    "sp.pprint(y)"
   ]
  },
  {
   "cell_type": "code",
   "execution_count": 154,
   "metadata": {},
   "outputs": [
    {
     "name": "stdout",
     "output_type": "stream",
     "text": [
      " 3          \n",
      "θ  - 3⋅θ + 2\n",
      "theta**3 - 3*theta + 2\n"
     ]
    }
   ],
   "source": [
    "p = x**3 - 3*x + 2\n",
    "sp.pprint(p) ## sp.pprint is the Sympy \"pretty print\" command\n",
    "print(p)"
   ]
  },
  {
   "cell_type": "code",
   "execution_count": 155,
   "metadata": {},
   "outputs": [
    {
     "name": "stdout",
     "output_type": "stream",
     "text": [
      "   2    \n",
      "3⋅θ  - 3\n"
     ]
    }
   ],
   "source": [
    "sp.pprint( sp.diff(p, x) )"
   ]
  },
  {
   "cell_type": "code",
   "execution_count": 156,
   "metadata": {},
   "outputs": [
    {
     "name": "stdout",
     "output_type": "stream",
     "text": [
      "5/4\n",
      " 4      2      \n",
      "θ    3⋅θ       \n",
      "── - ──── + 2⋅θ\n",
      "4     2        \n"
     ]
    }
   ],
   "source": [
    "sp.pprint( sp.integrate(p, (x, 1, 2) )) ## with endpoint\n",
    " ## definite integral\n",
    "sp.pprint( sp.integrate(p, x)) ## indef integral"
   ]
  },
  {
   "cell_type": "code",
   "execution_count": 157,
   "metadata": {},
   "outputs": [
    {
     "name": "stdout",
     "output_type": "stream",
     "text": [
      "-1 + √2\n"
     ]
    }
   ],
   "source": [
    "x = sp.sqrt(2) - 1\n",
    "sp.pprint(x)"
   ]
  },
  {
   "cell_type": "code",
   "execution_count": 158,
   "metadata": {},
   "outputs": [
    {
     "name": "stdout",
     "output_type": "stream",
     "text": [
      "-1630477228166597776 + 1152921504606846976⋅√2\n",
      "0.543696475781564\n"
     ]
    }
   ],
   "source": [
    "for i in range(60):\n",
    "    x = f(x)\n",
    "sp.pprint(x)\n",
    "print(x.evalf()) ## float approx to Sympy expression"
   ]
  },
  {
   "cell_type": "markdown",
   "metadata": {},
   "source": [
    "## Calculus in Sympy"
   ]
  },
  {
   "cell_type": "code",
   "execution_count": 159,
   "metadata": {},
   "outputs": [
    {
     "name": "stdout",
     "output_type": "stream",
     "text": [
      "   ⎛ 2⎞\n",
      "sin⎝x ⎠\n"
     ]
    }
   ],
   "source": [
    "x = sp.Symbol('x')\n",
    "f = sp.sin(x**2)\n",
    "sp.pprint(f)"
   ]
  },
  {
   "cell_type": "code",
   "execution_count": 160,
   "metadata": {},
   "outputs": [],
   "source": [
    "F = sp.integrate(f, x)"
   ]
  },
  {
   "cell_type": "code",
   "execution_count": 161,
   "metadata": {},
   "outputs": [
    {
     "name": "stdout",
     "output_type": "stream",
     "text": [
      "                ⎛√2⋅x⎞       \n",
      "3⋅√2⋅√π⋅fresnels⎜────⎟⋅Γ(3/4)\n",
      "                ⎝ √π ⎠       \n",
      "─────────────────────────────\n",
      "           8⋅Γ(7/4)          \n"
     ]
    }
   ],
   "source": [
    "sp.pprint(F)"
   ]
  },
  {
   "cell_type": "code",
   "execution_count": 162,
   "metadata": {},
   "outputs": [],
   "source": [
    "?sp.fresnels"
   ]
  },
  {
   "cell_type": "code",
   "execution_count": 163,
   "metadata": {},
   "outputs": [
    {
     "data": {
      "text/plain": [
       "0.3434156783636982421953008159580684568865"
      ]
     },
     "execution_count": 163,
     "metadata": {},
     "output_type": "execute_result"
    }
   ],
   "source": [
    "## this is called a \"special function\" \n",
    "## sympy knows its name\n",
    "\n",
    "sp.fresnels(2).evalf(40)"
   ]
  },
  {
   "cell_type": "code",
   "execution_count": 164,
   "metadata": {},
   "outputs": [],
   "source": [
    "import numpy as np\n",
    "import matplotlib.pyplot as plt\n",
    "%matplotlib inline\n",
    "\n",
    "X = np.linspace(-4*np.pi, 4*np.pi, 1000)\n",
    "Y = np.array( [sp.fresnels(x).evalf() for x in X] )"
   ]
  },
  {
   "cell_type": "code",
   "execution_count": 165,
   "metadata": {},
   "outputs": [
    {
     "data": {
      "text/plain": [
       "[<matplotlib.lines.Line2D at 0x7f2c25f35978>]"
      ]
     },
     "execution_count": 165,
     "metadata": {},
     "output_type": "execute_result"
    },
    {
     "data": {
      "image/png": "[encoded data removed]",
      "text/plain": [
       "<Figure size 432x288 with 1 Axes>"
      ]
     },
     "metadata": {
      "needs_background": "light"
     },
     "output_type": "display_data"
    }
   ],
   "source": [
    "plt.title(\"fresnel function\")\n",
    "plt.plot(X, Y)"
   ]
  },
  {
   "cell_type": "markdown",
   "metadata": {},
   "source": [
    "## Equality\n",
    "\n",
    "One problem with symbolic mathematics packages is checking equality\n",
    "of two objects is often difficult. "
   ]
  },
  {
   "cell_type": "code",
   "execution_count": 166,
   "metadata": {},
   "outputs": [
    {
     "name": "stdout",
     "output_type": "stream",
     "text": [
      "   1   \n",
      "───────\n",
      "-1 + √2\n",
      "1 + √2\n"
     ]
    }
   ],
   "source": [
    "LHS = 1/(sp.sqrt(2)-1)\n",
    "RHS = sp.sqrt(2)+1\n",
    "sp.pprint(LHS)\n",
    "sp.pprint(RHS)"
   ]
  },
  {
   "cell_type": "code",
   "execution_count": 167,
   "metadata": {},
   "outputs": [
    {
     "name": "stdout",
     "output_type": "stream",
     "text": [
      "False\n"
     ]
    }
   ],
   "source": [
    "print(LHS==RHS)"
   ]
  },
  {
   "cell_type": "code",
   "execution_count": 168,
   "metadata": {},
   "outputs": [
    {
     "name": "stdout",
     "output_type": "stream",
     "text": [
      "<class 'sympy.core.add.Add'>\n",
      "<class 'sympy.core.power.Pow'>\n"
     ]
    }
   ],
   "source": [
    "## purpose here is that == \n",
    "## does not check equality at the mathematical level\n",
    "## what it does do is check if you are using the same\n",
    "## exact syntax to express this object\n",
    "\n",
    "print(type(RHS))\n",
    "print(type(LHS))"
   ]
  },
  {
   "cell_type": "code",
   "execution_count": 169,
   "metadata": {},
   "outputs": [
    {
     "name": "stdout",
     "output_type": "stream",
     "text": [
      "Pow(Add(Integer(-1), Pow(Integer(2), Rational(1, 2))), Integer(-1))\n",
      "<class 'sympy.core.power.Pow'>\n",
      "(-1 + √2, -1)\n"
     ]
    }
   ],
   "source": [
    "## i.e. the type is the the LAST operation used in the\n",
    "## construction of this object\n",
    "\n",
    "print(sp.srepr(LHS))\n",
    "print(LHS.func)\n",
    "sp.pprint(LHS.args)"
   ]
  },
  {
   "cell_type": "code",
   "execution_count": 170,
   "metadata": {},
   "outputs": [
    {
     "name": "stdout",
     "output_type": "stream",
     "text": [
      "√2\n",
      "<class 'sympy.core.power.Pow'>\n",
      "Pow(Integer(2), Rational(1, 2)) \n",
      "\n",
      "-1 + √2\n",
      "<class 'sympy.core.add.Add'>\n",
      "Add(Integer(-1), Pow(Integer(2), Rational(1, 2))) \n",
      "\n",
      "  1   \n",
      "──────\n",
      "1 + √2\n",
      "<class 'sympy.core.power.Pow'>\n",
      "Pow(Add(Integer(1), Pow(Integer(2), Rational(1, 2))), Integer(-1)) \n",
      "\n"
     ]
    }
   ],
   "source": [
    "## the sp.srepr command\n",
    "## this gives us Sympy's internal syntax for the object\n",
    "\n",
    "## Pow expression contains 2 to the 1/2 power\n",
    "##  sqrt(2) - 1\n",
    "##  (sqrt(2) - 1)^(-1)\n",
    "\n",
    "## this is called an Expression Tree\n",
    "\n",
    "exprl = [sp.sqrt(2), sp.sqrt(2)-1, 1/(sp.sqrt(2)+1)]\n",
    "for l in exprl:\n",
    "    sp.pprint(l)\n",
    "    print(type(l))\n",
    "    print(sp.srepr(l), \"\\n\")"
   ]
  },
  {
   "cell_type": "markdown",
   "metadata": {},
   "source": [
    "A sympy algebraic expression is stored internally in what is known as a **rooted tree**.\n",
    "\n",
    "<div style=\"display: inline-block; margin-right: 12px; margin-left: 50px\">\n",
    "<img src=\"images/tree1.png\" width=\"150\" height=\"150\" class=\"alignleft\" title=\"sqrt(2)\"/></div>\n",
    "<div style=\"display: inline-block; margin-right: 12px; margin-left: 50px\">\n",
    "<img src=\"images/tree2.png\" width=\"250\" height=\"250\" class=\"alignleft\" title=\"sqrt(2)-1\"/></div>\n",
    "<div style=\"display: inline-block; margin-right: 12px; margin-left: 50px\">\n",
    "<img src=\"images/tree3.png\" width=\"300\" height=\"300\" class=\"alignleft\" title=\"1/(1+sqrt(2))\"/></div>\n",
    "\n",
    "* The **final** operation in the expression is the **base** or **root** of the tree, which is what we see when we request the **type**.\n",
    "\n",
    "* When one calls the equality \"==\" operation in Python for sympy expressions, Python checks to see if the expression trees are identical.\n",
    "\n",
    "* Sympy will perform the most *elementary* simplifications automatically, such as $\\frac{\\sqrt{2}}{2} = \\frac{1}{\\sqrt{2}}$. The term *elementary* should be taken to mean the simplifications that cost Python essentially no time or processing power. Sympy only attempts this for objects where a *canonical form* is known.\n",
    "\n",
    "* Checking equality of more complicated expressions involves more computation, quite often because there is *no* canonical form.\n",
    "\n",
    "The internal tree structure to a sympy object is expressible with the <a href=\"http://docs.sympy.org/latest/tutorial/manipulation.html\">*srepr*</a> command. One can access the root with the **func** call, and the children of the root with the **args** list.\n",
    "\n",
    "~                                       "
   ]
  },
  {
   "cell_type": "code",
   "execution_count": 171,
   "metadata": {},
   "outputs": [
    {
     "name": "stdout",
     "output_type": "stream",
     "text": [
      "True\n"
     ]
    }
   ],
   "source": [
    "x = sp.sqrt(2)\n",
    "y = 2/sp.sqrt(2)\n",
    "print(x==y)"
   ]
  },
  {
   "cell_type": "code",
   "execution_count": 172,
   "metadata": {},
   "outputs": [
    {
     "name": "stdout",
     "output_type": "stream",
     "text": [
      "√2\n",
      "√2\n",
      "True\n"
     ]
    }
   ],
   "source": [
    "## sympy does do some \"elementary\" simplifications\n",
    "sp.pprint(x)\n",
    "sp.pprint(y)\n",
    "print(x==y)"
   ]
  },
  {
   "cell_type": "code",
   "execution_count": 173,
   "metadata": {},
   "outputs": [
    {
     "name": "stdout",
     "output_type": "stream",
     "text": [
      "   2          \n",
      "a⋅x  + b⋅x + c\n"
     ]
    }
   ],
   "source": [
    "x = sp.Symbol('x')\n",
    "a,b,c = sp.symbols('a b c')\n",
    "p = a*x**2 + b*x + c\n",
    "sp.pprint(p)"
   ]
  },
  {
   "cell_type": "code",
   "execution_count": 174,
   "metadata": {},
   "outputs": [
    {
     "name": "stdout",
     "output_type": "stream",
     "text": [
      "⎡        _____________   ⎛       _____________⎞ ⎤\n",
      "⎢       ╱           2    ⎜      ╱           2 ⎟ ⎥\n",
      "⎢-b + ╲╱  -4⋅a⋅c + b    -⎝b + ╲╱  -4⋅a⋅c + b  ⎠ ⎥\n",
      "⎢─────────────────────, ────────────────────────⎥\n",
      "⎣         2⋅a                     2⋅a           ⎦\n"
     ]
    }
   ],
   "source": [
    "sp.pprint(sp.solve(p, x))"
   ]
  },
  {
   "cell_type": "code",
   "execution_count": 175,
   "metadata": {},
   "outputs": [],
   "source": [
    "a,b,c,d = sp.symbols('a b c d')\n",
    "p = a*x**3 + b*x**2+c*x+d\n",
    "#sp.pprint(sp.solve(p, x))"
   ]
  },
  {
   "cell_type": "code",
   "execution_count": 176,
   "metadata": {},
   "outputs": [
    {
     "name": "stdout",
     "output_type": "stream",
     "text": [
      "⎡⎧   ⎛       _________⎞   _________ ⎛    _________    ⎞        _________⎫  ⎧  \n",
      "⎢⎨x: ⎝-2 - ╲╱ -√3 + 2 ⎠⋅╲╱ -√3 + 2 ⋅⎝- ╲╱ -√3 + 2  + 2⎠, y: -╲╱ -√3 + 2 ⎬, ⎨x:\n",
      "⎣⎩                                                                      ⎭  ⎩  \n",
      "\n",
      "  ⎛       _________⎞   _________ ⎛  _________    ⎞       _________⎫  ⎧   ⎛    \n",
      " -⎝-2 + ╲╱ -√3 + 2 ⎠⋅╲╱ -√3 + 2 ⋅⎝╲╱ -√3 + 2  + 2⎠, y: ╲╱ -√3 + 2 ⎬, ⎨x: ⎝-2 -\n",
      "                                                                  ⎭  ⎩        \n",
      "\n",
      "   ________⎞   ________ ⎛    ________    ⎞        ________⎫  ⎧    ⎛       ____\n",
      " ╲╱ √3 + 2 ⎠⋅╲╱ √3 + 2 ⋅⎝- ╲╱ √3 + 2  + 2⎠, y: -╲╱ √3 + 2 ⎬, ⎨x: -⎝-2 + ╲╱ √3 \n",
      "                                                          ⎭  ⎩                \n",
      "\n",
      "____⎞   ________ ⎛  ________    ⎞       ________⎫⎤\n",
      "+ 2 ⎠⋅╲╱ √3 + 2 ⋅⎝╲╱ √3 + 2  + 2⎠, y: ╲╱ √3 + 2 ⎬⎥\n",
      "                                                ⎭⎦\n"
     ]
    }
   ],
   "source": [
    "## we can also solve multi-variable equations\n",
    "y = sp.Symbol('y')\n",
    "EQ = [x**2+y**2-4, x*y-1]\n",
    "## when you ask Sympy to solve eqn it assume f(x)=0 is what\n",
    "## you want to solve for. \n",
    "sol = sp.solve(EQ)\n",
    "sp.pprint(sol)"
   ]
  },
  {
   "cell_type": "code",
   "execution_count": 177,
   "metadata": {},
   "outputs": [
    {
     "name": "stdout",
     "output_type": "stream",
     "text": [
      "⎧    ⎛       _________⎞   _________ ⎛  _________    ⎞       _________⎫\n",
      "⎨x: -⎝-2 + ╲╱ -√3 + 2 ⎠⋅╲╱ -√3 + 2 ⋅⎝╲╱ -√3 + 2  + 2⎠, y: ╲╱ -√3 + 2 ⎬\n",
      "⎩                                                                    ⎭\n"
     ]
    }
   ],
   "source": [
    "## solutions generally are a list of dictionary objects\n",
    "## dictionary objects are always of form\n",
    "## (sympy variable, value of that variable)\n",
    "sp.pprint(sol[1])"
   ]
  },
  {
   "cell_type": "code",
   "execution_count": 178,
   "metadata": {},
   "outputs": [
    {
     "name": "stdout",
     "output_type": "stream",
     "text": [
      "x 1.93185165257814\n",
      "y 0.517638090205041\n"
     ]
    }
   ],
   "source": [
    "for v in sol[1].keys():\n",
    "    print(v, sol[1][v].evalf())"
   ]
  },
  {
   "cell_type": "code",
   "execution_count": 179,
   "metadata": {},
   "outputs": [
    {
     "data": {
      "text/plain": [
       "(-3, 3)"
      ]
     },
     "execution_count": 179,
     "metadata": {},
     "output_type": "execute_result"
    },
    {
     "data": {
      "image/png": "[encoded data removed]",
      "text/plain": [
       "<Figure size 720x720 with 1 Axes>"
      ]
     },
     "metadata": {
      "needs_background": "light"
     },
     "output_type": "display_data"
    }
   ],
   "source": [
    "## Let's try to plot the solutions\n",
    "fig, ax = plt.subplots(figsize=(10,10)) ## big plot!\n",
    "circle = plt.Circle( (0,0), 2, color='r', fill=False)\n",
    "x1 = np.linspace(0.2, 4) ## for plotting the hyperbola\n",
    "y1 = x1**(-1)\n",
    "ax.plot(x1, y1, '-') ## upper blue hyperbola\n",
    "\n",
    "x2 = np.linspace(-4, -0.2)\n",
    "y2 = x2**(-1)\n",
    "ax.plot(x2, y2, '-') ## lower orange hyperbola\n",
    "\n",
    "ax.set_title('Visualizing solutions', fontsize=10) ## big font\n",
    "\n",
    "## yellow dots for the intersection i.e. the solution.\n",
    "ax.plot([sol[i][x].evalf() for i in range(len(sol))],\\\n",
    "       [sol[i][y].evalf() for i in range(len(sol))], 'yo', markersize=10)\n",
    "\n",
    "fig.gca().add_artist(circle)\n",
    "ax.set_xlim(-3,3)\n",
    "ax.set_ylim(-3,3)"
   ]
  },
  {
   "cell_type": "markdown",
   "metadata": {},
   "source": [
    "## Let's apply Sympy to implement Newton's method\n",
    "\n",
    "Newton's method is the technique of iteratively using the linear approximation of a function to search for roots.  Say we want to find a solution to the equation\n",
    "\n",
    "$$f(x) = 0$$\n",
    "\n",
    "where, $f$ is a real-valued function of a real variable $f : \\mathbb R \\to \\mathbb R$.\n",
    "\n",
    "Start with an initial guess $x_0 \\in \\mathbb R$. The linear approximation $L$ at $x_0$ (to $f$) is the function\n",
    "\n",
    "$$L_{x_0}(x) = f(x_0) + f'(x_0)(x-x_0).$$\n",
    "\n",
    "Rather than trying to solve $f(x)=0$ we solve $L_{x_0}(x)=0$, which gives us\n",
    "\n",
    "$$x = x_0-\\frac{f(x_0)}{f'(x_0)}.$$\n",
    "\n",
    "Newton's method is the process of replacing the initial guess $x_0$ with the solution to $L_{x_0}(x) = 0$, i.e.\n",
    "\n",
    "$$x_0 \\longmapsto x_0-\\frac{f(x_0)}{f'(x_0)}.$$\n",
    "\n",
    "The function that sends $x_0$ to $x_0 -\\frac{f(x_0)}{f'(x_0)}$ is called the **Newton iterate**, let's call this function $N_f$, i.e.\n",
    "\n",
    "$$N_f(x) = x - \\frac{f(x)}{f'(x)}.$$\n",
    "\n",
    "* * *\n",
    "\n",
    "For example, if $f(x) = x^2 - c$, then solving $f(x) = 0$ is equivalent to computing a square root of $c$.  On the other hand, the *Newton iterate* is the function\n",
    "\n",
    "$$N_f(x) = x - \\frac{x^2 - c}{2x} = \\frac{x}{2} + \\frac{c}{2x}.$$\n",
    "\n",
    "This illustrates the compromise made with Newton's method: if one does not have a convenient direct way to compute square roots, one can get a good approximation by iteratively computing $N_f$, which uses only the operations of addition, multiplication and division.\n",
    "\n",
    "* * *\n",
    "\n",
    "As an initial exercise, let's use Sympy to compute the Newton iterates of functions.  We will then make a plot of $f$, $N$ as well as applications of the Newton iterate to some initial guesses.\n",
    "\n"
   ]
  },
  {
   "cell_type": "code",
   "execution_count": 180,
   "metadata": {},
   "outputs": [
    {
     "name": "stdout",
     "output_type": "stream",
     "text": [
      "      f(x)  \n",
      "x - ────────\n",
      "    d       \n",
      "    ──(f(x))\n",
      "    dx      \n"
     ]
    }
   ],
   "source": [
    "f = sp.Function('f')\n",
    "x = sp.Symbol('x')\n",
    "N = x - f(x)/f(x).diff(x)\n",
    "sp.pprint(N)"
   ]
  },
  {
   "cell_type": "code",
   "execution_count": 181,
   "metadata": {},
   "outputs": [
    {
     "name": "stdout",
     "output_type": "stream",
     "text": [
      "            2  \n",
      "      -c + x   \n",
      "x - ───────────\n",
      "    ∂ ⎛      2⎞\n",
      "    ──⎝-c + x ⎠\n",
      "    ∂x         \n"
     ]
    }
   ],
   "source": [
    "c = sp.Symbol('c')\n",
    "## newton iterator for F = x^2 - c\n",
    "Nsq = N.subs(f(x), x**2-c)\n",
    "sp.pprint(Nsq)"
   ]
  },
  {
   "cell_type": "code",
   "execution_count": 182,
   "metadata": {},
   "outputs": [],
   "source": [
    "## notice .diff(x) is passive\n",
    "Nsq = (sp.simplify(Nsq.doit()))"
   ]
  },
  {
   "cell_type": "code",
   "execution_count": 183,
   "metadata": {},
   "outputs": [
    {
     "name": "stdout",
     "output_type": "stream",
     "text": [
      "         2\n",
      "    c + x \n",
      "N = ──────\n",
      "     2⋅x  \n"
     ]
    }
   ],
   "source": [
    "sp.pprint(sp.Eq(sp.Symbol('N'),Nsq ))"
   ]
  },
  {
   "cell_type": "code",
   "execution_count": 184,
   "metadata": {},
   "outputs": [
    {
     "name": "stdout",
     "output_type": "stream",
     "text": [
      " 2    \n",
      "x  + 2\n",
      "──────\n",
      " 2⋅x  \n"
     ]
    }
   ],
   "source": [
    "## Let's try iterating this, for c=2. \n",
    "## try computing sqrt(2)\n",
    "Nsq2 = Nsq.subs(c,2)\n",
    "sp.pprint(Nsq2)"
   ]
  },
  {
   "cell_type": "code",
   "execution_count": 185,
   "metadata": {},
   "outputs": [
    {
     "ename": "TypeError",
     "evalue": "'Mul' object is not callable",
     "output_type": "error",
     "traceback": [
      "\u001b[0;31m---------------------------------------------------------------------------\u001b[0m",
      "\u001b[0;31mTypeError\u001b[0m                                 Traceback (most recent call last)",
      "\u001b[0;32m<ipython-input-185-794fbf37e4c8>\u001b[0m in \u001b[0;36m<module>\u001b[0;34m\u001b[0m\n\u001b[1;32m      1\u001b[0m \u001b[0;31m## convert a sympy expression into a callable function\u001b[0m\u001b[0;34m\u001b[0m\u001b[0;34m\u001b[0m\u001b[0;34m\u001b[0m\u001b[0m\n\u001b[0;32m----> 2\u001b[0;31m \u001b[0mNsq2\u001b[0m\u001b[0;34m(\u001b[0m\u001b[0;36m3\u001b[0m\u001b[0;34m)\u001b[0m\u001b[0;34m\u001b[0m\u001b[0;34m\u001b[0m\u001b[0m\n\u001b[0m\u001b[1;32m      3\u001b[0m \u001b[0;31m## sympy expressions are formal symbols, Python does not imagine them\u001b[0m\u001b[0;34m\u001b[0m\u001b[0;34m\u001b[0m\u001b[0;34m\u001b[0m\u001b[0m\n\u001b[1;32m      4\u001b[0m \u001b[0;31m## to be callable functions\u001b[0m\u001b[0;34m\u001b[0m\u001b[0;34m\u001b[0m\u001b[0;34m\u001b[0m\u001b[0m\n",
      "\u001b[0;31mTypeError\u001b[0m: 'Mul' object is not callable"
     ]
    }
   ],
   "source": [
    "## convert a sympy expression into a callable function\n",
    "Nsq2(3)\n",
    "## sympy expressions are formal symbols, Python does not imagine them\n",
    "## to be callable functions"
   ]
  },
  {
   "cell_type": "code",
   "execution_count": 186,
   "metadata": {},
   "outputs": [
    {
     "name": "stdout",
     "output_type": "stream",
     "text": [
      "1.88910621297869\n"
     ]
    }
   ],
   "source": [
    "## the most primitive is subs(x,number)\n",
    "sp.pprint(Nsq2.subs(x, sp.pi).evalf())"
   ]
  },
  {
   "cell_type": "code",
   "execution_count": 187,
   "metadata": {},
   "outputs": [],
   "source": [
    "## this is not a good idea if you want to do this more than once a second.\n",
    "## the next next best is the lambdify command\n",
    "IT = sp.lambdify(x, Nsq2)"
   ]
  },
  {
   "cell_type": "code",
   "execution_count": 188,
   "metadata": {},
   "outputs": [
    {
     "data": {
      "text/plain": [
       "1.8884713375796178"
      ]
     },
     "execution_count": 188,
     "metadata": {},
     "output_type": "execute_result"
    }
   ],
   "source": [
    "IT(3.14)"
   ]
  },
  {
   "cell_type": "code",
   "execution_count": 189,
   "metadata": {},
   "outputs": [
    {
     "name": "stdout",
     "output_type": "stream",
     "text": [
      "-0.41421356237309515\n",
      "0.08578643762690485\n",
      "0.002453104293571595\n",
      "2.1239014147411694e-06\n",
      "1.5947243525715749e-12\n"
     ]
    }
   ],
   "source": [
    "x = 1.0\n",
    "for i in range(5):\n",
    "    print(x - ma.sqrt(2))\n",
    "    x = IT(x)"
   ]
  },
  {
   "cell_type": "code",
   "execution_count": 190,
   "metadata": {},
   "outputs": [
    {
     "name": "stdout",
     "output_type": "stream",
     "text": [
      "1.4142135623730951\n"
     ]
    }
   ],
   "source": [
    "import math as ma\n",
    "print(ma.sqrt(2))"
   ]
  },
  {
   "cell_type": "code",
   "execution_count": 191,
   "metadata": {},
   "outputs": [
    {
     "data": {
      "text/plain": [
       "[<matplotlib.lines.Line2D at 0x7f2c25e250b8>]"
      ]
     },
     "execution_count": 191,
     "metadata": {},
     "output_type": "execute_result"
    },
    {
     "data": {
      "image/png": "[encoded data removed]",
      "text/plain": [
       "<Figure size 432x288 with 1 Axes>"
      ]
     },
     "metadata": {
      "needs_background": "light"
     },
     "output_type": "display_data"
    }
   ],
   "source": [
    "## want to investigate Newton's method more globally\n",
    "## for a function f(x) I want to plot whole function\n",
    "## for initial guess x_0 plot on the x-axis, \n",
    "## plot also all the Newton iterates. \n",
    "x = sp.Symbol('x')\n",
    "\n",
    "import matplotlib.pyplot as plt\n",
    "import numpy as np\n",
    "%matplotlib inline\n",
    "\n",
    "## initial plot will be for sqrt(2)\n",
    "F = sp.lambdify(x, x**2-2)\n",
    "\n",
    "## x coordinates\n",
    "xl = [1.0]\n",
    "yl = [0.0]\n",
    "\n",
    "## next pt will be point on graph. \n",
    "## then we plot the tangent line from that point to the zero of tangent line\n",
    "## repeat\n",
    "\n",
    "for i in range(4):\n",
    "    xl.append(xl[-1])\n",
    "    yl.append(F(xl[-1]))\n",
    "    xl.append(IT(xl[-1]))\n",
    "    yl.append(0.0)\n",
    "    \n",
    "## plot x^2 - 2 fcn\n",
    "dom = np.linspace(min(xl), max(xl), 1000)\n",
    "plt.plot(dom, [F(x) for x in dom], color=\"green\", label=\"$x^2-2$\")\n",
    "plt.plot(xl, yl, color=\"orange\", label=\"Newt\")\n",
    "plt.plot(dom, [0 for x in dom], color=\"black\")\n",
    "plt.legend()\n",
    "## starting point\n",
    "plt.plot([xl[0]], [yl[0]], 'ro')\n",
    "plt.plot([xl[-1]], [yl[-1]], 'bo')"
   ]
  },
  {
   "cell_type": "code",
   "execution_count": 192,
   "metadata": {},
   "outputs": [
    {
     "name": "stdout",
     "output_type": "stream",
     "text": [
      "cos(x)\n"
     ]
    }
   ],
   "source": [
    "f=sp.sin(x)\n",
    "sp.pprint(f.diff(x))"
   ]
  },
  {
   "cell_type": "code",
   "execution_count": 193,
   "metadata": {},
   "outputs": [],
   "source": [
    "## f is a sympy functional expression\n",
    "## the variable will be x.\n",
    "## x0 is the initial guess (a float)\n",
    "## n is the number of steps you want to see.\n",
    "def plotNewt(f, x, x0, n):\n",
    "    F = sp.lambdify(x, f)\n",
    "    N = x - f/f.diff(x)\n",
    "    IT = sp.lambdify(x, N)\n",
    "    \n",
    "    xl = [x0]\n",
    "    yl = [F(x0)]\n",
    "\n",
    "    ## next pt will be point on graph. \n",
    "    ## then we plot the tangent line from that point to the zero of tangent line\n",
    "    ## repeat\n",
    "\n",
    "    for i in range(n):\n",
    "        xl.append(xl[-1])\n",
    "        yl.append(F(xl[-1]))\n",
    "        xl.append(IT(xl[-1]))\n",
    "        yl.append(0.0)\n",
    "    \n",
    "    ## plot x^2 - 2 fcn\n",
    "    plt.figure(figsize=(10,10))\n",
    "    dom = np.linspace(min(xl)-0.5, max(xl)+0.5, 1000)\n",
    "    plt.plot(dom, [F(x) for x in dom], color=\"green\", label='$'+sp.latex(f)+'$')\n",
    "    plt.plot(xl, yl, color=\"orange\", label=\"Newt\")\n",
    "    plt.plot(dom, [0 for x in dom], color=\"black\")\n",
    "    ## starting point\n",
    "    plt.plot([xl[0]], [yl[0]], 'ro', label=\"init\")\n",
    "    plt.plot([xl[-1]], [yl[-1]], 'bo', label=\"end\")\n",
    "    plt.legend()\n",
    "    "
   ]
  },
  {
   "cell_type": "code",
   "execution_count": 194,
   "metadata": {},
   "outputs": [
    {
     "data": {
      "image/png": "[encoded data removed]",
      "text/plain": [
       "<Figure size 720x720 with 1 Axes>"
      ]
     },
     "metadata": {
      "needs_background": "light"
     },
     "output_type": "display_data"
    }
   ],
   "source": [
    "plotNewt(sp.sin(x), x, 1.4, 5)"
   ]
  },
  {
   "cell_type": "code",
   "execution_count": 195,
   "metadata": {},
   "outputs": [
    {
     "data": {
      "image/png": "[encoded data removed]",
      "text/plain": [
       "<Figure size 720x720 with 1 Axes>"
      ]
     },
     "metadata": {
      "needs_background": "light"
     },
     "output_type": "display_data"
    }
   ],
   "source": [
    "plotNewt(x**3-x, x, 0.448, 20)"
   ]
  },
  {
   "cell_type": "code",
   "execution_count": 196,
   "metadata": {},
   "outputs": [
    {
     "name": "stdout",
     "output_type": "stream",
     "text": [
      "√x\n"
     ]
    }
   ],
   "source": [
    "f = sp.sqrt(x)\n",
    "sp.pprint(f)"
   ]
  },
  {
   "cell_type": "code",
   "execution_count": 197,
   "metadata": {},
   "outputs": [
    {
     "ename": "TypeError",
     "evalue": "'Pow' object is not callable",
     "output_type": "error",
     "traceback": [
      "\u001b[0;31m---------------------------------------------------------------------------\u001b[0m",
      "\u001b[0;31mTypeError\u001b[0m                                 Traceback (most recent call last)",
      "\u001b[0;32m<ipython-input-197-255902b873a2>\u001b[0m in \u001b[0;36m<module>\u001b[0;34m\u001b[0m\n\u001b[0;32m----> 1\u001b[0;31m \u001b[0mf\u001b[0m\u001b[0;34m(\u001b[0m\u001b[0;36m4\u001b[0m\u001b[0;34m)\u001b[0m\u001b[0;34m\u001b[0m\u001b[0;34m\u001b[0m\u001b[0m\n\u001b[0m",
      "\u001b[0;31mTypeError\u001b[0m: 'Pow' object is not callable"
     ]
    }
   ],
   "source": [
    "f(4)"
   ]
  },
  {
   "cell_type": "code",
   "execution_count": null,
   "metadata": {},
   "outputs": [],
   "source": [
    "F = sp.lambdify(x, f)"
   ]
  },
  {
   "cell_type": "code",
   "execution_count": 198,
   "metadata": {},
   "outputs": [
    {
     "data": {
      "text/plain": [
       "14"
      ]
     },
     "execution_count": 198,
     "metadata": {},
     "output_type": "execute_result"
    }
   ],
   "source": [
    "F(4)"
   ]
  },
  {
   "cell_type": "code",
   "execution_count": 199,
   "metadata": {},
   "outputs": [],
   "source": [
    "## look up \"ufuncify\" command -- compiles the sympy expression with a C compiler"
   ]
  },
  {
   "cell_type": "markdown",
   "metadata": {},
   "source": [
    "## Complex answers\n",
    "\n",
    "in Sympy\n"
   ]
  },
  {
   "cell_type": "code",
   "execution_count": 200,
   "metadata": {},
   "outputs": [
    {
     "name": "stdout",
     "output_type": "stream",
     "text": [
      "   b    \n",
      "a⋅x  + c\n"
     ]
    }
   ],
   "source": [
    "a, b, c, x = sp.symbols('a b c x')\n",
    "f = a*x**b + c\n",
    "sp.pprint(f)"
   ]
  },
  {
   "cell_type": "code",
   "execution_count": 201,
   "metadata": {},
   "outputs": [
    {
     "name": "stdout",
     "output_type": "stream",
     "text": [
      "  ⎛⎧ b + 1            ⎞      \n",
      "  ⎜⎪x                 ⎟      \n",
      "  ⎜⎪──────  for b ≠ -1⎟      \n",
      "a⋅⎜⎨b + 1             ⎟ + c⋅x\n",
      "  ⎜⎪                  ⎟      \n",
      "  ⎜⎪log(x)  otherwise ⎟      \n",
      "  ⎝⎩                  ⎠      \n"
     ]
    }
   ],
   "source": [
    "F = sp.integrate(f, x)\n",
    "sp.pprint(F)"
   ]
  },
  {
   "cell_type": "markdown",
   "metadata": {},
   "source": [
    "In Sympy expression **log(x)** is the natural logarithm, i.e. **ln(x)**"
   ]
  },
  {
   "cell_type": "code",
   "execution_count": 202,
   "metadata": {},
   "outputs": [
    {
     "name": "stdout",
     "output_type": "stream",
     "text": [
      "⌠              \n",
      "⎮ ⎛   b    ⎞   \n",
      "⎮ ⎝a⋅x  + c⎠ dx\n",
      "⌡              \n"
     ]
    }
   ],
   "source": [
    "F = sp.Integral(f,x)\n",
    "sp.pprint(F)"
   ]
  },
  {
   "cell_type": "code",
   "execution_count": 203,
   "metadata": {},
   "outputs": [
    {
     "name": "stdout",
     "output_type": "stream",
     "text": [
      "  ⎛⎧ b + 1            ⎞      \n",
      "  ⎜⎪x                 ⎟      \n",
      "  ⎜⎪──────  for b ≠ -1⎟      \n",
      "a⋅⎜⎨b + 1             ⎟ + c⋅x\n",
      "  ⎜⎪                  ⎟      \n",
      "  ⎜⎪log(x)  otherwise ⎟      \n",
      "  ⎝⎩                  ⎠      \n"
     ]
    }
   ],
   "source": [
    "## passive integration expression\n",
    "sp.pprint(F.doit())"
   ]
  },
  {
   "cell_type": "markdown",
   "metadata": {},
   "source": [
    "## Solving differential equations in Sympy"
   ]
  },
  {
   "cell_type": "code",
   "execution_count": 204,
   "metadata": {},
   "outputs": [],
   "source": [
    "f=sp.Function('f')\n",
    "k = sp.Symbol('k')\n",
    "ODE = sp.Eq(sp.Derivative(f(x), x), k*f(x)**2)"
   ]
  },
  {
   "cell_type": "code",
   "execution_count": 205,
   "metadata": {},
   "outputs": [
    {
     "name": "stdout",
     "output_type": "stream",
     "text": [
      "d             2   \n",
      "──(f(x)) = k⋅f (x)\n",
      "dx                \n"
     ]
    }
   ],
   "source": [
    "sp.pprint(ODE)"
   ]
  },
  {
   "cell_type": "code",
   "execution_count": 206,
   "metadata": {},
   "outputs": [],
   "source": [
    "SOL = sp.dsolve(ODE)"
   ]
  },
  {
   "cell_type": "code",
   "execution_count": 207,
   "metadata": {},
   "outputs": [
    {
     "name": "stdout",
     "output_type": "stream",
     "text": [
      "         -1    \n",
      "f(x) = ────────\n",
      "       C₁ + k⋅x\n"
     ]
    }
   ],
   "source": [
    "sp.pprint(SOL)"
   ]
  },
  {
   "cell_type": "code",
   "execution_count": 208,
   "metadata": {},
   "outputs": [
    {
     "name": "stdout",
     "output_type": "stream",
     "text": [
      "Equality(Function('f')(Symbol('x')), Mul(Integer(-1), Pow(Add(Symbol('C1'), Mul(Symbol('k'), Symbol('x'))), Integer(-1))))\n"
     ]
    }
   ],
   "source": [
    "print(sp.srepr(SOL))"
   ]
  },
  {
   "cell_type": "code",
   "execution_count": 209,
   "metadata": {},
   "outputs": [],
   "source": [
    "SOL1 = SOL.subs([(sp.Symbol('C1'), 1)])\n",
    "SOLk = SOL.subs([(k, 1)])"
   ]
  },
  {
   "cell_type": "code",
   "execution_count": 210,
   "metadata": {},
   "outputs": [
    {
     "name": "stdout",
     "output_type": "stream",
     "text": [
      "         -1   \n",
      "f(x) = ───────\n",
      "       k⋅x + 1\n",
      "  -1   \n",
      "───────\n",
      "k⋅x + 1\n"
     ]
    }
   ],
   "source": [
    "sp.pprint(SOL1)\n",
    "sp.pprint(SOL1.args[1])"
   ]
  },
  {
   "cell_type": "code",
   "execution_count": 211,
   "metadata": {},
   "outputs": [
    {
     "data": {
      "text/plain": [
       "<matplotlib.legend.Legend at 0x7f2c25f62550>"
      ]
     },
     "execution_count": 211,
     "metadata": {},
     "output_type": "execute_result"
    },
    {
     "data": {
      "image/png": "[encoded data removed]",
      "text/plain": [
       "<Figure size 576x576 with 1 Axes>"
      ]
     },
     "metadata": {
      "needs_background": "light"
     },
     "output_type": "display_data"
    }
   ],
   "source": [
    "plt.figure(figsize=(8,8))\n",
    "\n",
    "for c in range(1,7):\n",
    "    SOLc = SOLk.subs([(sp.Symbol('C1'), c)])\n",
    "    F = sp.lambdify(x, SOLc.args[1])\n",
    "    dom = np.linspace(0, 4, 1000)\n",
    "    ran = [F(p) for p in dom]\n",
    "    plt.plot(dom, ran, label='$'+sp.latex(SOLc.args[1])+'$')\n",
    "plt.legend()"
   ]
  },
  {
   "cell_type": "markdown",
   "metadata": {},
   "source": [
    "## More Generally -- Solving ODES with sympy\n",
    "\n",
    "At present, sympy's ode solving algorithm is basically a big *cookbook*-style database of formulas.  The key computational task sympy must perform is to recognise what type of differential equation you have provided it.  \n",
    "\n",
    "Once it recognises the form from its cookbook, it follows standard procedures, which usually amount to either computing anti-derivatives, Fourier transforms, power series, etc. \n",
    "\n",
    "**Sympy has algorithms to solve:**\n",
    "\n",
    "* First order ODEs that are: \n",
    "     - separable differential equations\n",
    "     - differential equations whose coefficients homogeneous of the same order.\n",
    "     - exact differential equations.\n",
    "     - linear differential equations\n",
    "     - Bernoulli differential equations.\n",
    "\n",
    "* Second order ODEs that are:\n",
    "    - Liouville differential equations.\n",
    "\n",
    "* n-th order ODEs that are:\n",
    "    - linear homogeneous differential equation with constant coefficients.\n",
    "    - linear inhomogeneous differential equation with constant coefficients using the method of undetermined coefficients.\n",
    "    - linear inhomogeneous differential equation with constant coefficients using the method of variation of parameters\n",
    "\n"
   ]
  },
  {
   "cell_type": "code",
   "execution_count": 217,
   "metadata": {},
   "outputs": [],
   "source": [
    "y=sp.Function('y')\n",
    "ODE = sp.Eq(y(x).diff(x) + ((3*x*y(x)+y(x)**2)/(x**2+x*y(x))), 0)"
   ]
  },
  {
   "cell_type": "code",
   "execution_count": 218,
   "metadata": {},
   "outputs": [
    {
     "name": "stdout",
     "output_type": "stream",
     "text": [
      "                       2       \n",
      "d          3⋅x⋅y(x) + y (x)    \n",
      "──(y(x)) + ──────────────── = 0\n",
      "dx            2                \n",
      "             x  + x⋅y(x)       \n"
     ]
    }
   ],
   "source": [
    "sp.pprint(ODE)"
   ]
  },
  {
   "cell_type": "code",
   "execution_count": 219,
   "metadata": {},
   "outputs": [
    {
     "data": {
      "text/plain": [
       "('1st_homogeneous_coeff_best',\n",
       " '1st_homogeneous_coeff_subs_indep_div_dep',\n",
       " '1st_homogeneous_coeff_subs_dep_div_indep',\n",
       " 'lie_group',\n",
       " '1st_homogeneous_coeff_subs_indep_div_dep_Integral',\n",
       " '1st_homogeneous_coeff_subs_dep_div_indep_Integral')"
      ]
     },
     "execution_count": 219,
     "metadata": {},
     "output_type": "execute_result"
    }
   ],
   "source": [
    "sp.classify_ode( ODE)"
   ]
  },
  {
   "cell_type": "code",
   "execution_count": 220,
   "metadata": {},
   "outputs": [
    {
     "name": "stdout",
     "output_type": "stream",
     "text": [
      "⎡               _________                 _________⎤\n",
      "⎢              ╱       4                 ╱       4 ⎥\n",
      "⎢            ╲╱  C₁ + x                ╲╱  C₁ + x  ⎥\n",
      "⎢y(x) = -x - ────────────, y(x) = -x + ────────────⎥\n",
      "⎣                 x                         x      ⎦\n"
     ]
    }
   ],
   "source": [
    "sp.pprint(sp.dsolve(ODE))\n"
   ]
  },
  {
   "cell_type": "code",
   "execution_count": 221,
   "metadata": {},
   "outputs": [
    {
     "name": "stdout",
     "output_type": "stream",
     "text": [
      "⎡         ⎛     ________    ⎞           ⎛       ________    ⎞⎤\n",
      "⎢         ⎜    ╱ C₁         ⎟           ⎜      ╱ C₁         ⎟⎥\n",
      "⎢y(x) = x⋅⎜   ╱  ── + 1  - 1⎟, y(x) = x⋅⎜-    ╱  ── + 1  - 1⎟⎥\n",
      "⎢         ⎜  ╱    4         ⎟           ⎜    ╱    4         ⎟⎥\n",
      "⎣         ⎝╲╱    x          ⎠           ⎝  ╲╱    x          ⎠⎦\n"
     ]
    }
   ],
   "source": [
    "sp.pprint(sp.dsolve(ODE, hint='1st_homogeneous_coeff_subs_dep_div_indep'))"
   ]
  },
  {
   "cell_type": "code",
   "execution_count": null,
   "metadata": {},
   "outputs": [],
   "source": []
  }
 ],
 "metadata": {
  "kernelspec": {
   "display_name": "Python 3",
   "language": "python",
   "name": "python3"
  },
  "language_info": {
   "codemirror_mode": {
    "name": "ipython",
    "version": 3
   },
   "file_extension": ".py",
   "mimetype": "text/x-python",
   "name": "python",
   "nbconvert_exporter": "python",
   "pygments_lexer": "ipython3",
   "version": "3.7.3"
  }
 },
 "nbformat": 4,
 "nbformat_minor": 2
}
