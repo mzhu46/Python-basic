{
 "cells": [
  {
   "cell_type": "markdown",
   "metadata": {},
   "source": [
    "# Updates\n",
    "* expand on absolute vs relative path name\n",
    "* explain tree"
   ]
  },
  {
   "cell_type": "markdown",
   "metadata": {},
   "source": [
    "# 1. Command line interface CLI\n",
    "The Linux/Unix/GNU operating system command line interface.\n",
    "\n",
    "##  The Linux command line\n",
    "\n",
    "### Shell\n",
    "The program that provides the command line (not all of the commands) is the shell. A common shell is `bash`. Each command has a _manual_ page that provides detailed information of the command. The manual pages are available, for example, on the [Ubuntu Manpage Repository](http://manpages.ubuntu.com). We are using Ubuntu version _18.04 LTS_ but it should not make a difference.\n",
    "\n",
    "**Note:** On many systems you can access the the manual page with the `man` command. In our present Jupyter images the man pages have not been installed to make the images leaner. Instead use the convenient link to the Manpage repository. \n",
    "\n",
    "The _shell_ `bash` really is a sophisticated programming language in itself. Check the `bash` manual page to get an idea what the scope is. Fortunately, we only need a very small subset of capabilities! \n",
    "\n",
    "The command line is a Linux process. Launching a command on the command line interface (CLI) spawns a child process. You can see a self-updating list of processes in your instance by using the `top` command, leave that program by hitting the `q` key. Each process as a process ID (PID) and top shows you the CPU and memory usage as well as the time a process has run.  "
   ]
  },
  {
   "cell_type": "markdown",
   "metadata": {},
   "source": [
    "### File system\n",
    "```\n",
    "  ls (-l, many other options)\n",
    "  cd  (. or .. or ~ or actual directory)\n",
    "  pwd\n",
    "  mkdir\n",
    "  rmdir\n",
    "  mv  (works on files and directories)  \n",
    "  du (-sh)\n",
    "  df (-h)\n",
    "```\n",
    "\n",
    "_Tip:_ In a Python notebook individual cells can be turned into a bash shell with `%%bash` magic command."
   ]
  },
  {
   "cell_type": "code",
   "execution_count": null,
   "metadata": {
    "collapsed": true
   },
   "outputs": [],
   "source": [
    "pwd"
   ]
  },
  {
   "cell_type": "code",
   "execution_count": null,
   "metadata": {
    "collapsed": true
   },
   "outputs": [],
   "source": [
    "ls -1 ?.*"
   ]
  },
  {
   "cell_type": "code",
   "execution_count": null,
   "metadata": {
    "collapsed": true
   },
   "outputs": [],
   "source": [
    "ls -1 [12].*"
   ]
  },
  {
   "cell_type": "code",
   "execution_count": null,
   "metadata": {
    "collapsed": true
   },
   "outputs": [],
   "source": [
    "cd ..;pwd"
   ]
  },
  {
   "cell_type": "code",
   "execution_count": null,
   "metadata": {
    "collapsed": true
   },
   "outputs": [],
   "source": [
    "cd ; pwd"
   ]
  },
  {
   "cell_type": "markdown",
   "metadata": {},
   "source": [
    "### File manipulation\n",
    "\n",
    "```\n",
    "  more/less/tail/head\n",
    "  cat\n",
    "  touch\n",
    "  cp\n",
    "  rm\n",
    "  grep\n",
    "  wc (-l)\n",
    "  sed\n",
    "```\n",
    "\n",
    "You have to pick one of these CLI editors:\n",
    "```\n",
    "  emacs, vi or nano \n",
    "```"
   ]
  },
  {
   "cell_type": "markdown",
   "metadata": {},
   "source": [
    "The following command looks for all lines that contain the words _superduper_ in the file name `1. Command line interface - Linux, Unix, GNU.ipynb` - i.e. this notebook file:"
   ]
  },
  {
   "cell_type": "code",
   "execution_count": null,
   "metadata": {},
   "outputs": [],
   "source": [
    "# for next cell make sure you are in the course repository directory\n",
    "pwd"
   ]
  },
  {
   "cell_type": "code",
   "execution_count": null,
   "metadata": {},
   "outputs": [],
   "source": [
    "grep \"superduper\" \"1. Command line interface - Linux, Unix, GNU.ipynb\" | wc -l"
   ]
  },
  {
   "cell_type": "markdown",
   "metadata": {},
   "source": [
    "Modify file content with stream-line editor `sed`. The following replaces the word _superduper_ with the word _Santa Claus_ in this file and write the result to standard output, which is the redirected to the file `tt.ipynb`. Have a look at that notebook."
   ]
  },
  {
   "cell_type": "code",
   "execution_count": null,
   "metadata": {
    "collapsed": true
   },
   "outputs": [],
   "source": [
    "sed s/\"superduper\"/\"mountain goat\"/g 1.\\ Command\\ line\\ interface\\ -\\ Linux,\\ Unix,\\ GNU.ipynb > tt.ipynb"
   ]
  },
  {
   "cell_type": "markdown",
   "metadata": {},
   "source": [
    "### Variables\n",
    "Like any programming language bash allows to define and work with variables, and show the content with the `echo` command:"
   ]
  },
  {
   "cell_type": "code",
   "execution_count": null,
   "metadata": {},
   "outputs": [],
   "source": [
    "name=\"Edward\"\n",
    "names=\"Alfred Paul Ellis Roxie Sam\"\n",
    "\n",
    "echo The name is $name\n",
    "echo The other names are $names"
   ]
  },
  {
   "cell_type": "markdown",
   "metadata": {},
   "source": [
    "A special class of variables are those that have special meaning to the environment, and will be recognized by the shell. They can be set in the `.bashrc` file, see below. Examples for environment variables are: \n",
    "\n",
    "Variable | Comment\n",
    "--|--\n",
    "`EDITOR` | The command line editor to be used when needed, e.g. when the `git commit` command is used without the `-m` option (see [Git notebook](2._Intro_Git.ipynb)\n",
    " `PATH` | A list of absolute directory file path addresses where the shell will look for executables.\n",
    " \n",
    "#### Assigning output of command to variable\n",
    "A command like `ls` will print the output to the terminal. If you would like to do an operation on each file in a directory, for example, it is useful to be able to interpret the output of a command as a string. The _back quotes_ (left, top on your keyboard below the `Esc` key) will accomplish that. Consider the following example:"
   ]
  },
  {
   "cell_type": "code",
   "execution_count": null,
   "metadata": {},
   "outputs": [],
   "source": [
    "files=`ls`\n",
    "echo $files"
   ]
  },
  {
   "cell_type": "markdown",
   "metadata": {},
   "source": [
    "#### Access substring\n",
    "Often is is required to do something with just a part of a string. A substring can be accessed in the following way (experiment with the two number arguments to figure out what they mean):"
   ]
  },
  {
   "cell_type": "code",
   "execution_count": null,
   "metadata": {},
   "outputs": [],
   "source": [
    "echo ${files:3:12}"
   ]
  },
  {
   "cell_type": "markdown",
   "metadata": {},
   "source": [
    "#### Escaping special characters\n",
    "Study the following examples that demonstrate working with variables and shows how the special meaning of the `$` character can be escaped."
   ]
  },
  {
   "cell_type": "code",
   "execution_count": null,
   "metadata": {},
   "outputs": [],
   "source": [
    "ABC=Orwell.1984\n",
    "echo The variable is shown with the command \n",
    "echo \"echo \\$ABC\""
   ]
  },
  {
   "cell_type": "code",
   "execution_count": null,
   "metadata": {},
   "outputs": [],
   "source": [
    "echo The value of the variable ABC is $ABC"
   ]
  },
  {
   "cell_type": "markdown",
   "metadata": {},
   "source": [
    "### String manipulation\n",
    "```\n",
    "set \n",
    "basename\n",
    "dirname\n",
    "```"
   ]
  },
  {
   "cell_type": "code",
   "execution_count": null,
   "metadata": {
    "collapsed": true
   },
   "outputs": [],
   "source": [
    "set -- abc def 123 fg10\n",
    "echo $1"
   ]
  },
  {
   "cell_type": "code",
   "execution_count": null,
   "metadata": {
    "collapsed": true
   },
   "outputs": [],
   "source": [
    "astr=\"abc def 123 fg10\"\n",
    "set -- $astr\n",
    "echo $2"
   ]
  },
  {
   "cell_type": "markdown",
   "metadata": {},
   "source": [
    "Note that in the above example `1`, `2`, `3` etc are _set_ to be variables that contain the words provided in sequence. The list starts with `1` (and not with `0` as it would in Python)."
   ]
  },
  {
   "cell_type": "code",
   "execution_count": null,
   "metadata": {
    "collapsed": true
   },
   "outputs": [],
   "source": [
    "basename /usr/local/share/doc/foo/foo.txt"
   ]
  },
  {
   "cell_type": "code",
   "execution_count": null,
   "metadata": {
    "collapsed": true
   },
   "outputs": [],
   "source": [
    "dirname /usr/local/share/doc/foo/foo.txt"
   ]
  },
  {
   "cell_type": "markdown",
   "metadata": {},
   "source": [
    "### Helpful commands\n",
    "```\n",
    "  man (command) - not installed on this system, see comments at top of this notebook\n",
    "  history\n",
    "```\n",
    "\n",
    "### Networking\n",
    "```\n",
    "  ssh\n",
    "  scp\n",
    "  whoami\n",
    "  rsync \n",
    "  ftp\n",
    "  wget\n",
    "```\n",
    "\n",
    "wget example: download mymod.py file from GitHub course repo:\n"
   ]
  },
  {
   "cell_type": "code",
   "execution_count": null,
   "metadata": {
    "collapsed": true
   },
   "outputs": [],
   "source": [
    "wget https://github.com/UVic-CompPhys/physmath248-2018/blob/master/examples/mymod.py"
   ]
  },
  {
   "cell_type": "markdown",
   "metadata": {},
   "source": [
    "### Processes\n",
    "```\n",
    "  top\n",
    "  ps\n",
    "  kill\n",
    "  nohub, nice, &\n",
    "  pipes and filters: use | to pipe between command, use > to redirect output\n",
    "```"
   ]
  },
  {
   "cell_type": "code",
   "execution_count": null,
   "metadata": {},
   "outputs": [],
   "source": [
    "ls | grep READ > out.txt\n",
    "cat out.txt"
   ]
  },
  {
   "cell_type": "markdown",
   "metadata": {},
   "source": [
    "### Shell scripts\n",
    "\n",
    "You can combine a sequence of shell commands into a file and use as a shell script. You have to make the file with the script executable (`chmod u+x file_name.sh`). See file [`example.sh`](./examples/example.sh). The `#` character signals a comment line. You can execute a shell script by just typing the name of the shell script file and hit Return:\n",
    "```\n",
    "./example.sh\n",
    "```\n",
    "\n",
    "\n",
    "The `./` at the beginning ensures that I am getting the command `example.sh` from the file in this current directory, and not in some other directory in the `PATH` environment variable. The `PATH` environment variable is a list of directories in which the shell will look for executable files. One common use case is that people create a `bin` directory (bin for binary which usually implies executable, but shell scripts are `ASCII` files and can also be executed). They place all personal programs and shell scripts in that `bin` dir. Then add the `$HOME/bin` dir to the `PATH` variable. Now, those programs will be available from anywhere in your directory tree. The `HOME` environemnt variable contains the path name of your home directory. Try `echo $HOME` on the command line.\n",
    "\n",
    "### Customize your shell/CLI\n",
    "You can define variables and aliases in the .bashrc file. The details on how this is set up depends on the particular Linux/Unix/Mac flavour.\n",
    "\n",
    "```\n",
    "   alias\n",
    "   environment variables\n",
    "```\n",
    "\n",
    "At startup the shell will execute the shell commands in `.bashrc`.\n",
    "There may already be a `.bashrc` in your home directory, have a look in there, it may suggest that you add your own aliases to a `.bashrc` file. Else add aliases and environment variables directly to the `.bashrc` file. Add:\n",
    "* an environment variable of your workspace, e.g. `export PATH=$PATH:$HOME/bin`\n",
    "* an alias to redefine the `rm` command to always ask if a file should really be removed\n",
    "* an alias for your editor   "
   ]
  },
  {
   "cell_type": "markdown",
   "metadata": {},
   "source": [
    "### Flow control in bash\n",
    "\n",
    "Bash provides elaborate flow control that allows you to create powerful tools to maninupate files in a file system."
   ]
  },
  {
   "cell_type": "code",
   "execution_count": null,
   "metadata": {},
   "outputs": [],
   "source": [
    "names=\"Alfred Paul Ellis Roxie Sam\"\n",
    "for name in $names\n",
    "do\n",
    "echo Hello $name! How are you doing? > $name.txt\n",
    "done\n",
    "\n",
    "# and check output:\n",
    "ls *txt\n",
    "cat $name.txt"
   ]
  },
  {
   "cell_type": "code",
   "execution_count": null,
   "metadata": {},
   "outputs": [],
   "source": [
    "if [ -f Sam.txt ] \n",
    "then\n",
    "echo Sam.txt does already exist.\n",
    "fi"
   ]
  },
  {
   "cell_type": "code",
   "execution_count": null,
   "metadata": {},
   "outputs": [],
   "source": [
    "# Another way to do this is the logical \"and\" operator \"&&\"\n",
    "# think about it ....\n",
    "[ -f Sam.txt ] && echo Sam.txt does already exist."
   ]
  },
  {
   "cell_type": "markdown",
   "metadata": {},
   "source": [
    "`&&` is the _and_ operator, and `||` is the _or_ operator. Try an example with the '||' operator."
   ]
  },
  {
   "cell_type": "markdown",
   "metadata": {},
   "source": [
    "### Dot files (configuration files, hidden files)\n",
    "We have seen that `ls -a` shows us _all_ files, including the _hidden_ files. These are files that start with a `.` and are usually configuration files of programs and applications that one does not need to see most of the time. These so-called _dot_ files contain default settings and set environment variables. Environment variables are bash variables that have a special meaning. An example is the `EDITOR` variable that sets your default choice of command-line editor. E.g., if your choice of command-line editor is `nano` then you could set the `EDITOR` variable to that value:\n",
    "```\n",
    "export EDITOR=nano\n",
    "```\n",
    "Here `export` makes sure the variable is known in all child processes as well.\n",
    "\n",
    "### Example\n",
    "The following cell writes a file on the command line using `cat`:"
   ]
  },
  {
   "cell_type": "code",
   "execution_count": null,
   "metadata": {},
   "outputs": [],
   "source": [
    "cat > ~/.bashrc << %% \n",
    "export EDITOR=\"nano\"\n",
    "export PATH=$PATH:$HOME/bin\n",
    "alias ed=\"emacs -nw\"\n",
    "alias git_log='git log --all --oneline --decorate --graph'\n",
    "alias rm=\"rm -i\"\n",
    "%%"
   ]
  },
  {
   "cell_type": "markdown",
   "metadata": {},
   "source": [
    "In order to make the changes to the your `.bashrc` file known to the shell you _source_ your `.bashrc` file:\n",
    "\n",
    "```\n",
    "source .bashrc\n",
    "```\n",
    "\n",
    "Now try `echo $EDITOR` to see if that environment variable has been set. \n",
    "Whenever a new terminal is started the `.bashrc` is automatically sourced."
   ]
  },
  {
   "cell_type": "markdown",
   "metadata": {},
   "source": [
    "### Resources\n",
    "You can find numerous online tutorials and support resources on the internet, such as (search yourself for other and let us know what you find useful) [last updated: 01/2015]:\n",
    "* <http://linuxcommand.org/lc3_learning_the_shell.php>\n",
    "* <http://www.emacswiki.org/emacs/LearningEmacs>\n",
    "* <https://www.youtube.com/watch?v=3DA1grSp4mU>\n",
    "* You can do very advanced things, as shown, for example, in this [bash tutorial](http://www.funtoo.org/Bash_by_Example,_Part_1), [thanks for the suggestion](https://github.com/Hoverbear)\n",
    "\n",
    "These tutorials may differ in which shell and/or command line editor they use. Don't get confused by that."
   ]
  },
  {
   "cell_type": "code",
   "execution_count": null,
   "metadata": {},
   "outputs": [],
   "source": []
  }
 ],
 "metadata": {
  "kernelspec": {
   "display_name": "Bash",
   "language": "bash",
   "name": "bash"
  },
  "language_info": {
   "codemirror_mode": "shell",
   "file_extension": ".sh",
   "mimetype": "text/x-sh",
   "name": "bash"
  }
 },
 "nbformat": 4,
 "nbformat_minor": 2
}
